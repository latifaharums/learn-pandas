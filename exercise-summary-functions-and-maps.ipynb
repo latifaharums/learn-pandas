{
 "cells": [
  {
   "cell_type": "markdown",
   "id": "59e4c2a4",
   "metadata": {
    "papermill": {
     "duration": 0.007169,
     "end_time": "2022-11-12T03:49:08.113321",
     "exception": false,
     "start_time": "2022-11-12T03:49:08.106152",
     "status": "completed"
    },
    "tags": []
   },
   "source": [
    "**This notebook is an exercise in the [Pandas](https://www.kaggle.com/learn/pandas) course.  You can reference the tutorial at [this link](https://www.kaggle.com/residentmario/summary-functions-and-maps).**\n",
    "\n",
    "---\n"
   ]
  },
  {
   "cell_type": "markdown",
   "id": "a2319401",
   "metadata": {
    "papermill": {
     "duration": 0.005442,
     "end_time": "2022-11-12T03:49:08.124692",
     "exception": false,
     "start_time": "2022-11-12T03:49:08.119250",
     "status": "completed"
    },
    "tags": []
   },
   "source": [
    "# Introduction\n",
    "\n",
    "Now you are ready to get a deeper understanding of your data.\n",
    "\n",
    "Run the following cell to load your data and some utility functions (including code to check your answers)."
   ]
  },
  {
   "cell_type": "code",
   "execution_count": 1,
   "id": "3f477f5c",
   "metadata": {
    "execution": {
     "iopub.execute_input": "2022-11-12T03:49:08.138641Z",
     "iopub.status.busy": "2022-11-12T03:49:08.137647Z",
     "iopub.status.idle": "2022-11-12T03:49:15.021696Z",
     "shell.execute_reply": "2022-11-12T03:49:15.020492Z"
    },
    "papermill": {
     "duration": 6.894882,
     "end_time": "2022-11-12T03:49:15.025162",
     "exception": false,
     "start_time": "2022-11-12T03:49:08.130280",
     "status": "completed"
    },
    "tags": []
   },
   "outputs": [
    {
     "name": "stdout",
     "output_type": "stream",
     "text": [
      "Setup complete.\n"
     ]
    },
    {
     "data": {
      "text/html": [
       "<div>\n",
       "<style scoped>\n",
       "    .dataframe tbody tr th:only-of-type {\n",
       "        vertical-align: middle;\n",
       "    }\n",
       "\n",
       "    .dataframe tbody tr th {\n",
       "        vertical-align: top;\n",
       "    }\n",
       "\n",
       "    .dataframe thead th {\n",
       "        text-align: right;\n",
       "    }\n",
       "</style>\n",
       "<table border=\"1\" class=\"dataframe\">\n",
       "  <thead>\n",
       "    <tr style=\"text-align: right;\">\n",
       "      <th></th>\n",
       "      <th>country</th>\n",
       "      <th>description</th>\n",
       "      <th>designation</th>\n",
       "      <th>points</th>\n",
       "      <th>price</th>\n",
       "      <th>province</th>\n",
       "      <th>region_1</th>\n",
       "      <th>region_2</th>\n",
       "      <th>taster_name</th>\n",
       "      <th>taster_twitter_handle</th>\n",
       "      <th>title</th>\n",
       "      <th>variety</th>\n",
       "      <th>winery</th>\n",
       "    </tr>\n",
       "  </thead>\n",
       "  <tbody>\n",
       "    <tr>\n",
       "      <th>0</th>\n",
       "      <td>Italy</td>\n",
       "      <td>Aromas include tropical fruit, broom, brimston...</td>\n",
       "      <td>Vulkà Bianco</td>\n",
       "      <td>87</td>\n",
       "      <td>NaN</td>\n",
       "      <td>Sicily &amp; Sardinia</td>\n",
       "      <td>Etna</td>\n",
       "      <td>NaN</td>\n",
       "      <td>Kerin O’Keefe</td>\n",
       "      <td>@kerinokeefe</td>\n",
       "      <td>Nicosia 2013 Vulkà Bianco  (Etna)</td>\n",
       "      <td>White Blend</td>\n",
       "      <td>Nicosia</td>\n",
       "    </tr>\n",
       "    <tr>\n",
       "      <th>1</th>\n",
       "      <td>Portugal</td>\n",
       "      <td>This is ripe and fruity, a wine that is smooth...</td>\n",
       "      <td>Avidagos</td>\n",
       "      <td>87</td>\n",
       "      <td>15.0</td>\n",
       "      <td>Douro</td>\n",
       "      <td>NaN</td>\n",
       "      <td>NaN</td>\n",
       "      <td>Roger Voss</td>\n",
       "      <td>@vossroger</td>\n",
       "      <td>Quinta dos Avidagos 2011 Avidagos Red (Douro)</td>\n",
       "      <td>Portuguese Red</td>\n",
       "      <td>Quinta dos Avidagos</td>\n",
       "    </tr>\n",
       "    <tr>\n",
       "      <th>2</th>\n",
       "      <td>US</td>\n",
       "      <td>Tart and snappy, the flavors of lime flesh and...</td>\n",
       "      <td>NaN</td>\n",
       "      <td>87</td>\n",
       "      <td>14.0</td>\n",
       "      <td>Oregon</td>\n",
       "      <td>Willamette Valley</td>\n",
       "      <td>Willamette Valley</td>\n",
       "      <td>Paul Gregutt</td>\n",
       "      <td>@paulgwine</td>\n",
       "      <td>Rainstorm 2013 Pinot Gris (Willamette Valley)</td>\n",
       "      <td>Pinot Gris</td>\n",
       "      <td>Rainstorm</td>\n",
       "    </tr>\n",
       "    <tr>\n",
       "      <th>3</th>\n",
       "      <td>US</td>\n",
       "      <td>Pineapple rind, lemon pith and orange blossom ...</td>\n",
       "      <td>Reserve Late Harvest</td>\n",
       "      <td>87</td>\n",
       "      <td>13.0</td>\n",
       "      <td>Michigan</td>\n",
       "      <td>Lake Michigan Shore</td>\n",
       "      <td>NaN</td>\n",
       "      <td>Alexander Peartree</td>\n",
       "      <td>NaN</td>\n",
       "      <td>St. Julian 2013 Reserve Late Harvest Riesling ...</td>\n",
       "      <td>Riesling</td>\n",
       "      <td>St. Julian</td>\n",
       "    </tr>\n",
       "    <tr>\n",
       "      <th>4</th>\n",
       "      <td>US</td>\n",
       "      <td>Much like the regular bottling from 2012, this...</td>\n",
       "      <td>Vintner's Reserve Wild Child Block</td>\n",
       "      <td>87</td>\n",
       "      <td>65.0</td>\n",
       "      <td>Oregon</td>\n",
       "      <td>Willamette Valley</td>\n",
       "      <td>Willamette Valley</td>\n",
       "      <td>Paul Gregutt</td>\n",
       "      <td>@paulgwine</td>\n",
       "      <td>Sweet Cheeks 2012 Vintner's Reserve Wild Child...</td>\n",
       "      <td>Pinot Noir</td>\n",
       "      <td>Sweet Cheeks</td>\n",
       "    </tr>\n",
       "  </tbody>\n",
       "</table>\n",
       "</div>"
      ],
      "text/plain": [
       "    country                                        description  \\\n",
       "0     Italy  Aromas include tropical fruit, broom, brimston...   \n",
       "1  Portugal  This is ripe and fruity, a wine that is smooth...   \n",
       "2        US  Tart and snappy, the flavors of lime flesh and...   \n",
       "3        US  Pineapple rind, lemon pith and orange blossom ...   \n",
       "4        US  Much like the regular bottling from 2012, this...   \n",
       "\n",
       "                          designation  points  price           province  \\\n",
       "0                        Vulkà Bianco      87    NaN  Sicily & Sardinia   \n",
       "1                            Avidagos      87   15.0              Douro   \n",
       "2                                 NaN      87   14.0             Oregon   \n",
       "3                Reserve Late Harvest      87   13.0           Michigan   \n",
       "4  Vintner's Reserve Wild Child Block      87   65.0             Oregon   \n",
       "\n",
       "              region_1           region_2         taster_name  \\\n",
       "0                 Etna                NaN       Kerin O’Keefe   \n",
       "1                  NaN                NaN          Roger Voss   \n",
       "2    Willamette Valley  Willamette Valley        Paul Gregutt   \n",
       "3  Lake Michigan Shore                NaN  Alexander Peartree   \n",
       "4    Willamette Valley  Willamette Valley        Paul Gregutt   \n",
       "\n",
       "  taster_twitter_handle                                              title  \\\n",
       "0          @kerinokeefe                  Nicosia 2013 Vulkà Bianco  (Etna)   \n",
       "1            @vossroger      Quinta dos Avidagos 2011 Avidagos Red (Douro)   \n",
       "2           @paulgwine       Rainstorm 2013 Pinot Gris (Willamette Valley)   \n",
       "3                   NaN  St. Julian 2013 Reserve Late Harvest Riesling ...   \n",
       "4           @paulgwine   Sweet Cheeks 2012 Vintner's Reserve Wild Child...   \n",
       "\n",
       "          variety               winery  \n",
       "0     White Blend              Nicosia  \n",
       "1  Portuguese Red  Quinta dos Avidagos  \n",
       "2      Pinot Gris            Rainstorm  \n",
       "3        Riesling           St. Julian  \n",
       "4      Pinot Noir         Sweet Cheeks  "
      ]
     },
     "execution_count": 1,
     "metadata": {},
     "output_type": "execute_result"
    }
   ],
   "source": [
    "import pandas as pd\n",
    "pd.set_option(\"display.max_rows\", 5)\n",
    "reviews = pd.read_csv(\"../input/wine-reviews/winemag-data-130k-v2.csv\", index_col=0)\n",
    "\n",
    "from learntools.core import binder; binder.bind(globals())\n",
    "from learntools.pandas.summary_functions_and_maps import *\n",
    "print(\"Setup complete.\")\n",
    "\n",
    "reviews.head()"
   ]
  },
  {
   "cell_type": "markdown",
   "id": "fc3548f5",
   "metadata": {
    "papermill": {
     "duration": 0.00624,
     "end_time": "2022-11-12T03:49:15.040552",
     "exception": false,
     "start_time": "2022-11-12T03:49:15.034312",
     "status": "completed"
    },
    "tags": []
   },
   "source": [
    "# Exercises"
   ]
  },
  {
   "cell_type": "markdown",
   "id": "cff58bd5",
   "metadata": {
    "papermill": {
     "duration": 0.005936,
     "end_time": "2022-11-12T03:49:15.052733",
     "exception": false,
     "start_time": "2022-11-12T03:49:15.046797",
     "status": "completed"
    },
    "tags": []
   },
   "source": [
    "## 1.\n",
    "\n",
    "What is the median of the `points` column in the `reviews` DataFrame?"
   ]
  },
  {
   "cell_type": "code",
   "execution_count": 2,
   "id": "96351145",
   "metadata": {
    "execution": {
     "iopub.execute_input": "2022-11-12T03:49:15.067386Z",
     "iopub.status.busy": "2022-11-12T03:49:15.066639Z",
     "iopub.status.idle": "2022-11-12T03:49:15.082056Z",
     "shell.execute_reply": "2022-11-12T03:49:15.080713Z"
    },
    "papermill": {
     "duration": 0.025417,
     "end_time": "2022-11-12T03:49:15.084262",
     "exception": false,
     "start_time": "2022-11-12T03:49:15.058845",
     "status": "completed"
    },
    "tags": []
   },
   "outputs": [
    {
     "name": "stdout",
     "output_type": "stream",
     "text": [
      "88.0\n"
     ]
    },
    {
     "data": {
      "application/javascript": [
       "parent.postMessage({\"jupyterEvent\": \"custom.exercise_interaction\", \"data\": {\"outcomeType\": 1, \"valueTowardsCompletion\": 0.14285714285714285, \"interactionType\": 1, \"questionType\": 1, \"questionId\": \"1_MedianPoints\", \"learnToolsVersion\": \"0.3.4\", \"failureMessage\": \"\", \"exceptionClass\": \"\", \"trace\": \"\"}}, \"*\")"
      ],
      "text/plain": [
       "<IPython.core.display.Javascript object>"
      ]
     },
     "metadata": {},
     "output_type": "display_data"
    },
    {
     "data": {
      "text/markdown": [
       "<span style=\"color:#33cc33\">Correct</span>"
      ],
      "text/plain": [
       "Correct"
      ]
     },
     "metadata": {},
     "output_type": "display_data"
    }
   ],
   "source": [
    "median_points = reviews.points.median()\n",
    "print(median_points)\n",
    "\n",
    "# Check your answer\n",
    "q1.check()"
   ]
  },
  {
   "cell_type": "code",
   "execution_count": 3,
   "id": "582ebe58",
   "metadata": {
    "execution": {
     "iopub.execute_input": "2022-11-12T03:49:15.100563Z",
     "iopub.status.busy": "2022-11-12T03:49:15.099156Z",
     "iopub.status.idle": "2022-11-12T03:49:15.104424Z",
     "shell.execute_reply": "2022-11-12T03:49:15.103417Z"
    },
    "papermill": {
     "duration": 0.015775,
     "end_time": "2022-11-12T03:49:15.106729",
     "exception": false,
     "start_time": "2022-11-12T03:49:15.090954",
     "status": "completed"
    },
    "tags": []
   },
   "outputs": [],
   "source": [
    "#q1.hint()\n",
    "#q1.solution()"
   ]
  },
  {
   "cell_type": "markdown",
   "id": "bc1a0699",
   "metadata": {
    "papermill": {
     "duration": 0.008078,
     "end_time": "2022-11-12T03:49:15.121508",
     "exception": false,
     "start_time": "2022-11-12T03:49:15.113430",
     "status": "completed"
    },
    "tags": []
   },
   "source": [
    "## 2. \n",
    "What countries are represented in the dataset? (Your answer should not include any duplicates.)"
   ]
  },
  {
   "cell_type": "code",
   "execution_count": 4,
   "id": "7e821adc",
   "metadata": {
    "execution": {
     "iopub.execute_input": "2022-11-12T03:49:15.137293Z",
     "iopub.status.busy": "2022-11-12T03:49:15.136371Z",
     "iopub.status.idle": "2022-11-12T03:49:15.154455Z",
     "shell.execute_reply": "2022-11-12T03:49:15.153442Z"
    },
    "papermill": {
     "duration": 0.028035,
     "end_time": "2022-11-12T03:49:15.156743",
     "exception": false,
     "start_time": "2022-11-12T03:49:15.128708",
     "status": "completed"
    },
    "tags": []
   },
   "outputs": [
    {
     "name": "stdout",
     "output_type": "stream",
     "text": [
      "['Italy' 'Portugal' 'US' 'Spain' 'France' 'Germany' 'Argentina' 'Chile'\n",
      " 'Australia' 'Austria' 'South Africa' 'New Zealand' 'Israel' 'Hungary'\n",
      " 'Greece' 'Romania' 'Mexico' 'Canada' nan 'Turkey' 'Czech Republic'\n",
      " 'Slovenia' 'Luxembourg' 'Croatia' 'Georgia' 'Uruguay' 'England' 'Lebanon'\n",
      " 'Serbia' 'Brazil' 'Moldova' 'Morocco' 'Peru' 'India' 'Bulgaria' 'Cyprus'\n",
      " 'Armenia' 'Switzerland' 'Bosnia and Herzegovina' 'Ukraine' 'Slovakia'\n",
      " 'Macedonia' 'China' 'Egypt']\n"
     ]
    },
    {
     "data": {
      "application/javascript": [
       "parent.postMessage({\"jupyterEvent\": \"custom.exercise_interaction\", \"data\": {\"outcomeType\": 1, \"valueTowardsCompletion\": 0.14285714285714285, \"interactionType\": 1, \"questionType\": 2, \"questionId\": \"2_UniqueCountries\", \"learnToolsVersion\": \"0.3.4\", \"failureMessage\": \"\", \"exceptionClass\": \"\", \"trace\": \"\"}}, \"*\")"
      ],
      "text/plain": [
       "<IPython.core.display.Javascript object>"
      ]
     },
     "metadata": {},
     "output_type": "display_data"
    },
    {
     "data": {
      "text/markdown": [
       "<span style=\"color:#33cc33\">Correct</span>"
      ],
      "text/plain": [
       "Correct"
      ]
     },
     "metadata": {},
     "output_type": "display_data"
    }
   ],
   "source": [
    "countries = reviews.country.unique()\n",
    "print(countries)\n",
    "\n",
    "# Check your answer\n",
    "q2.check()"
   ]
  },
  {
   "cell_type": "code",
   "execution_count": 5,
   "id": "f2836fec",
   "metadata": {
    "execution": {
     "iopub.execute_input": "2022-11-12T03:49:15.172711Z",
     "iopub.status.busy": "2022-11-12T03:49:15.172283Z",
     "iopub.status.idle": "2022-11-12T03:49:15.176658Z",
     "shell.execute_reply": "2022-11-12T03:49:15.175427Z"
    },
    "papermill": {
     "duration": 0.015158,
     "end_time": "2022-11-12T03:49:15.178959",
     "exception": false,
     "start_time": "2022-11-12T03:49:15.163801",
     "status": "completed"
    },
    "tags": []
   },
   "outputs": [],
   "source": [
    "#q2.hint()\n",
    "#q2.solution()"
   ]
  },
  {
   "cell_type": "markdown",
   "id": "c1684883",
   "metadata": {
    "papermill": {
     "duration": 0.006718,
     "end_time": "2022-11-12T03:49:15.192606",
     "exception": false,
     "start_time": "2022-11-12T03:49:15.185888",
     "status": "completed"
    },
    "tags": []
   },
   "source": [
    "## 3.\n",
    "How often does each country appear in the dataset? Create a Series `reviews_per_country` mapping countries to the count of reviews of wines from that country."
   ]
  },
  {
   "cell_type": "code",
   "execution_count": 6,
   "id": "037c630b",
   "metadata": {
    "execution": {
     "iopub.execute_input": "2022-11-12T03:49:15.208671Z",
     "iopub.status.busy": "2022-11-12T03:49:15.207874Z",
     "iopub.status.idle": "2022-11-12T03:49:15.229577Z",
     "shell.execute_reply": "2022-11-12T03:49:15.228567Z"
    },
    "papermill": {
     "duration": 0.032083,
     "end_time": "2022-11-12T03:49:15.231740",
     "exception": false,
     "start_time": "2022-11-12T03:49:15.199657",
     "status": "completed"
    },
    "tags": []
   },
   "outputs": [
    {
     "name": "stdout",
     "output_type": "stream",
     "text": [
      "US        54504\n",
      "France    22093\n",
      "          ...  \n",
      "China         1\n",
      "Egypt         1\n",
      "Name: country, Length: 43, dtype: int64\n"
     ]
    },
    {
     "data": {
      "application/javascript": [
       "parent.postMessage({\"jupyterEvent\": \"custom.exercise_interaction\", \"data\": {\"outcomeType\": 1, \"valueTowardsCompletion\": 0.14285714285714285, \"interactionType\": 1, \"questionType\": 1, \"questionId\": \"3_ReviewsPerCountry\", \"learnToolsVersion\": \"0.3.4\", \"failureMessage\": \"\", \"exceptionClass\": \"\", \"trace\": \"\"}}, \"*\")"
      ],
      "text/plain": [
       "<IPython.core.display.Javascript object>"
      ]
     },
     "metadata": {},
     "output_type": "display_data"
    },
    {
     "data": {
      "text/markdown": [
       "<span style=\"color:#33cc33\">Correct</span>"
      ],
      "text/plain": [
       "Correct"
      ]
     },
     "metadata": {},
     "output_type": "display_data"
    }
   ],
   "source": [
    "reviews_per_country = reviews.country.value_counts()\n",
    "print(reviews_per_country)\n",
    "\n",
    "# Check your answer\n",
    "q3.check()"
   ]
  },
  {
   "cell_type": "code",
   "execution_count": 7,
   "id": "df08c7df",
   "metadata": {
    "execution": {
     "iopub.execute_input": "2022-11-12T03:49:15.248263Z",
     "iopub.status.busy": "2022-11-12T03:49:15.247181Z",
     "iopub.status.idle": "2022-11-12T03:49:15.251782Z",
     "shell.execute_reply": "2022-11-12T03:49:15.250932Z"
    },
    "papermill": {
     "duration": 0.015018,
     "end_time": "2022-11-12T03:49:15.253872",
     "exception": false,
     "start_time": "2022-11-12T03:49:15.238854",
     "status": "completed"
    },
    "tags": []
   },
   "outputs": [],
   "source": [
    "#q3.hint()\n",
    "#q3.solution()"
   ]
  },
  {
   "cell_type": "markdown",
   "id": "2dc67636",
   "metadata": {
    "papermill": {
     "duration": 0.007048,
     "end_time": "2022-11-12T03:49:15.268504",
     "exception": false,
     "start_time": "2022-11-12T03:49:15.261456",
     "status": "completed"
    },
    "tags": []
   },
   "source": [
    "## 4.\n",
    "Create variable `centered_price` containing a version of the `price` column with the mean price subtracted.\n",
    "\n",
    "(Note: this 'centering' transformation is a common preprocessing step before applying various machine learning algorithms.) "
   ]
  },
  {
   "cell_type": "code",
   "execution_count": 8,
   "id": "1ff90a34",
   "metadata": {
    "execution": {
     "iopub.execute_input": "2022-11-12T03:49:15.285147Z",
     "iopub.status.busy": "2022-11-12T03:49:15.284312Z",
     "iopub.status.idle": "2022-11-12T03:49:15.299445Z",
     "shell.execute_reply": "2022-11-12T03:49:15.297842Z"
    },
    "papermill": {
     "duration": 0.02625,
     "end_time": "2022-11-12T03:49:15.302005",
     "exception": false,
     "start_time": "2022-11-12T03:49:15.275755",
     "status": "completed"
    },
    "tags": []
   },
   "outputs": [
    {
     "name": "stdout",
     "output_type": "stream",
     "text": [
      "0               NaN\n",
      "1        -20.363389\n",
      "            ...    \n",
      "129969    -3.363389\n",
      "129970   -14.363389\n",
      "Name: price, Length: 129971, dtype: float64\n"
     ]
    },
    {
     "data": {
      "application/javascript": [
       "parent.postMessage({\"jupyterEvent\": \"custom.exercise_interaction\", \"data\": {\"outcomeType\": 1, \"valueTowardsCompletion\": 0.14285714285714285, \"interactionType\": 1, \"questionType\": 1, \"questionId\": \"4_CenteredPrice\", \"learnToolsVersion\": \"0.3.4\", \"failureMessage\": \"\", \"exceptionClass\": \"\", \"trace\": \"\"}}, \"*\")"
      ],
      "text/plain": [
       "<IPython.core.display.Javascript object>"
      ]
     },
     "metadata": {},
     "output_type": "display_data"
    },
    {
     "data": {
      "text/markdown": [
       "<span style=\"color:#33cc33\">Correct</span>"
      ],
      "text/plain": [
       "Correct"
      ]
     },
     "metadata": {},
     "output_type": "display_data"
    }
   ],
   "source": [
    "centered_price = reviews.price - reviews.price.mean()\n",
    "print(centered_price)\n",
    "\n",
    "# Check your answer\n",
    "q4.check()"
   ]
  },
  {
   "cell_type": "code",
   "execution_count": 9,
   "id": "84f9ea88",
   "metadata": {
    "execution": {
     "iopub.execute_input": "2022-11-12T03:49:15.319460Z",
     "iopub.status.busy": "2022-11-12T03:49:15.318679Z",
     "iopub.status.idle": "2022-11-12T03:49:15.323174Z",
     "shell.execute_reply": "2022-11-12T03:49:15.322442Z"
    },
    "papermill": {
     "duration": 0.015753,
     "end_time": "2022-11-12T03:49:15.325492",
     "exception": false,
     "start_time": "2022-11-12T03:49:15.309739",
     "status": "completed"
    },
    "tags": []
   },
   "outputs": [],
   "source": [
    "#q4.hint()\n",
    "#q4.solution()"
   ]
  },
  {
   "cell_type": "markdown",
   "id": "56507c15",
   "metadata": {
    "papermill": {
     "duration": 0.00715,
     "end_time": "2022-11-12T03:49:15.340159",
     "exception": false,
     "start_time": "2022-11-12T03:49:15.333009",
     "status": "completed"
    },
    "tags": []
   },
   "source": [
    "## 5.\n",
    "I'm an economical wine buyer. Which wine is the \"best bargain\"? Create a variable `bargain_wine` with the title of the wine with the highest points-to-price ratio in the dataset."
   ]
  },
  {
   "cell_type": "code",
   "execution_count": 10,
   "id": "54269c1d",
   "metadata": {
    "execution": {
     "iopub.execute_input": "2022-11-12T03:49:15.357468Z",
     "iopub.status.busy": "2022-11-12T03:49:15.356689Z",
     "iopub.status.idle": "2022-11-12T03:49:15.372202Z",
     "shell.execute_reply": "2022-11-12T03:49:15.371143Z"
    },
    "papermill": {
     "duration": 0.026353,
     "end_time": "2022-11-12T03:49:15.374166",
     "exception": false,
     "start_time": "2022-11-12T03:49:15.347813",
     "status": "completed"
    },
    "tags": []
   },
   "outputs": [
    {
     "name": "stdout",
     "output_type": "stream",
     "text": [
      "Bandit NV Merlot (California)\n"
     ]
    },
    {
     "data": {
      "application/javascript": [
       "parent.postMessage({\"jupyterEvent\": \"custom.exercise_interaction\", \"data\": {\"outcomeType\": 1, \"valueTowardsCompletion\": 0.14285714285714285, \"interactionType\": 1, \"questionType\": 2, \"questionId\": \"5_BargainWine\", \"learnToolsVersion\": \"0.3.4\", \"failureMessage\": \"\", \"exceptionClass\": \"\", \"trace\": \"\"}}, \"*\")"
      ],
      "text/plain": [
       "<IPython.core.display.Javascript object>"
      ]
     },
     "metadata": {},
     "output_type": "display_data"
    },
    {
     "data": {
      "text/markdown": [
       "<span style=\"color:#33cc33\">Correct</span>"
      ],
      "text/plain": [
       "Correct"
      ]
     },
     "metadata": {},
     "output_type": "display_data"
    }
   ],
   "source": [
    "bargain_idx = (reviews.points / reviews.price).idxmax()\n",
    "bargain_wine = reviews.loc[bargain_idx, 'title']\n",
    "\n",
    "print(bargain_wine)\n",
    "\n",
    "# Check your answer\n",
    "q5.check()"
   ]
  },
  {
   "cell_type": "code",
   "execution_count": 11,
   "id": "29be4cf0",
   "metadata": {
    "execution": {
     "iopub.execute_input": "2022-11-12T03:49:15.391344Z",
     "iopub.status.busy": "2022-11-12T03:49:15.390682Z",
     "iopub.status.idle": "2022-11-12T03:49:15.394482Z",
     "shell.execute_reply": "2022-11-12T03:49:15.393604Z"
    },
    "papermill": {
     "duration": 0.014636,
     "end_time": "2022-11-12T03:49:15.396389",
     "exception": false,
     "start_time": "2022-11-12T03:49:15.381753",
     "status": "completed"
    },
    "tags": []
   },
   "outputs": [],
   "source": [
    "#q5.hint()\n",
    "#q5.solution()"
   ]
  },
  {
   "cell_type": "markdown",
   "id": "faafa9be",
   "metadata": {
    "papermill": {
     "duration": 0.007437,
     "end_time": "2022-11-12T03:49:15.411717",
     "exception": false,
     "start_time": "2022-11-12T03:49:15.404280",
     "status": "completed"
    },
    "tags": []
   },
   "source": [
    "## 6.\n",
    "There are only so many words you can use when describing a bottle of wine. Is a wine more likely to be \"tropical\" or \"fruity\"? Create a Series `descriptor_counts` counting how many times each of these two words appears in the `description` column in the dataset. (For simplicity, let's ignore the capitalized versions of these words.)"
   ]
  },
  {
   "cell_type": "code",
   "execution_count": 12,
   "id": "61015c06",
   "metadata": {
    "execution": {
     "iopub.execute_input": "2022-11-12T03:49:15.429503Z",
     "iopub.status.busy": "2022-11-12T03:49:15.428695Z",
     "iopub.status.idle": "2022-11-12T03:49:15.577011Z",
     "shell.execute_reply": "2022-11-12T03:49:15.575782Z"
    },
    "papermill": {
     "duration": 0.160413,
     "end_time": "2022-11-12T03:49:15.579774",
     "exception": false,
     "start_time": "2022-11-12T03:49:15.419361",
     "status": "completed"
    },
    "tags": []
   },
   "outputs": [
    {
     "name": "stdout",
     "output_type": "stream",
     "text": [
      "tropical    3607\n",
      "fruity      9090\n",
      "dtype: int64\n"
     ]
    },
    {
     "data": {
      "application/javascript": [
       "parent.postMessage({\"jupyterEvent\": \"custom.exercise_interaction\", \"data\": {\"outcomeType\": 1, \"valueTowardsCompletion\": 0.14285714285714285, \"interactionType\": 1, \"questionType\": 1, \"questionId\": \"6_DescriptorCounts\", \"learnToolsVersion\": \"0.3.4\", \"failureMessage\": \"\", \"exceptionClass\": \"\", \"trace\": \"\"}}, \"*\")"
      ],
      "text/plain": [
       "<IPython.core.display.Javascript object>"
      ]
     },
     "metadata": {},
     "output_type": "display_data"
    },
    {
     "data": {
      "text/markdown": [
       "<span style=\"color:#33cc33\">Correct</span>"
      ],
      "text/plain": [
       "Correct"
      ]
     },
     "metadata": {},
     "output_type": "display_data"
    }
   ],
   "source": [
    "n_trop = reviews.description.map(lambda desc: \"tropical\" in desc).sum()\n",
    "n_fruity = reviews.description.map(lambda desc: \"fruity\" in desc).sum()\n",
    "descriptor_counts = pd.Series([n_trop, n_fruity], index=['tropical', 'fruity'])\n",
    "\n",
    "print(descriptor_counts)\n",
    "\n",
    "# Check your answer\n",
    "q6.check()"
   ]
  },
  {
   "cell_type": "code",
   "execution_count": 13,
   "id": "cd77c7e3",
   "metadata": {
    "execution": {
     "iopub.execute_input": "2022-11-12T03:49:15.598263Z",
     "iopub.status.busy": "2022-11-12T03:49:15.597858Z",
     "iopub.status.idle": "2022-11-12T03:49:15.602191Z",
     "shell.execute_reply": "2022-11-12T03:49:15.600939Z"
    },
    "papermill": {
     "duration": 0.016313,
     "end_time": "2022-11-12T03:49:15.604501",
     "exception": false,
     "start_time": "2022-11-12T03:49:15.588188",
     "status": "completed"
    },
    "tags": []
   },
   "outputs": [],
   "source": [
    "#q6.hint()\n",
    "#q6.solution()"
   ]
  },
  {
   "cell_type": "markdown",
   "id": "31d99ae4",
   "metadata": {
    "papermill": {
     "duration": 0.007879,
     "end_time": "2022-11-12T03:49:15.621073",
     "exception": false,
     "start_time": "2022-11-12T03:49:15.613194",
     "status": "completed"
    },
    "tags": []
   },
   "source": [
    "## 7.\n",
    "We'd like to host these wine reviews on our website, but a rating system ranging from 80 to 100 points is too hard to understand - we'd like to translate them into simple star ratings. A score of 95 or higher counts as 3 stars, a score of at least 85 but less than 95 is 2 stars. Any other score is 1 star.\n",
    "\n",
    "Also, the Canadian Vintners Association bought a lot of ads on the site, so any wines from Canada should automatically get 3 stars, regardless of points.\n",
    "\n",
    "Create a series `star_ratings` with the number of stars corresponding to each review in the dataset."
   ]
  },
  {
   "cell_type": "code",
   "execution_count": 14,
   "id": "36aef498",
   "metadata": {
    "execution": {
     "iopub.execute_input": "2022-11-12T03:49:15.641181Z",
     "iopub.status.busy": "2022-11-12T03:49:15.640487Z",
     "iopub.status.idle": "2022-11-12T03:49:19.619252Z",
     "shell.execute_reply": "2022-11-12T03:49:19.618042Z"
    },
    "papermill": {
     "duration": 3.991983,
     "end_time": "2022-11-12T03:49:19.622125",
     "exception": false,
     "start_time": "2022-11-12T03:49:15.630142",
     "status": "completed"
    },
    "tags": []
   },
   "outputs": [
    {
     "name": "stdout",
     "output_type": "stream",
     "text": [
      "0         2\n",
      "1         2\n",
      "         ..\n",
      "129969    2\n",
      "129970    2\n",
      "Length: 129971, dtype: int64\n"
     ]
    },
    {
     "data": {
      "application/javascript": [
       "parent.postMessage({\"jupyterEvent\": \"custom.exercise_interaction\", \"data\": {\"outcomeType\": 1, \"valueTowardsCompletion\": 0.14285714285714285, \"interactionType\": 1, \"questionType\": 1, \"questionId\": \"7_StarRatings\", \"learnToolsVersion\": \"0.3.4\", \"failureMessage\": \"\", \"exceptionClass\": \"\", \"trace\": \"\"}}, \"*\")"
      ],
      "text/plain": [
       "<IPython.core.display.Javascript object>"
      ]
     },
     "metadata": {},
     "output_type": "display_data"
    },
    {
     "data": {
      "text/markdown": [
       "<span style=\"color:#33cc33\">Correct</span>"
      ],
      "text/plain": [
       "Correct"
      ]
     },
     "metadata": {},
     "output_type": "display_data"
    }
   ],
   "source": [
    "def stars(row):\n",
    "    if row.country == 'Canada':\n",
    "        return 3\n",
    "    elif row.points >= 95:\n",
    "        return 3\n",
    "    elif row.points >= 85:\n",
    "        return 2\n",
    "    else:\n",
    "        return 1\n",
    "\n",
    "star_ratings = reviews.apply(stars, axis='columns')\n",
    "print(star_ratings)\n",
    "\n",
    "# Check your answer\n",
    "q7.check()"
   ]
  },
  {
   "cell_type": "code",
   "execution_count": 15,
   "id": "69bf183b",
   "metadata": {
    "execution": {
     "iopub.execute_input": "2022-11-12T03:49:19.640706Z",
     "iopub.status.busy": "2022-11-12T03:49:19.640313Z",
     "iopub.status.idle": "2022-11-12T03:49:19.645719Z",
     "shell.execute_reply": "2022-11-12T03:49:19.644456Z"
    },
    "papermill": {
     "duration": 0.017454,
     "end_time": "2022-11-12T03:49:19.647970",
     "exception": false,
     "start_time": "2022-11-12T03:49:19.630516",
     "status": "completed"
    },
    "tags": []
   },
   "outputs": [],
   "source": [
    "#q7.hint()\n",
    "#q7.solution()"
   ]
  },
  {
   "cell_type": "markdown",
   "id": "42846e5e",
   "metadata": {
    "papermill": {
     "duration": 0.00804,
     "end_time": "2022-11-12T03:49:19.664411",
     "exception": false,
     "start_time": "2022-11-12T03:49:19.656371",
     "status": "completed"
    },
    "tags": []
   },
   "source": [
    "# Keep going\n",
    "Continue to **[grouping and sorting](https://www.kaggle.com/residentmario/grouping-and-sorting)**."
   ]
  },
  {
   "cell_type": "markdown",
   "id": "c29fd171",
   "metadata": {
    "papermill": {
     "duration": 0.008022,
     "end_time": "2022-11-12T03:49:19.680615",
     "exception": false,
     "start_time": "2022-11-12T03:49:19.672593",
     "status": "completed"
    },
    "tags": []
   },
   "source": [
    "---\n",
    "\n",
    "\n",
    "\n",
    "\n",
    "*Have questions or comments? Visit the [course discussion forum](https://www.kaggle.com/learn/pandas/discussion) to chat with other learners.*"
   ]
  }
 ],
 "metadata": {
  "kernelspec": {
   "display_name": "Python 3",
   "language": "python",
   "name": "python3"
  },
  "language_info": {
   "codemirror_mode": {
    "name": "ipython",
    "version": 3
   },
   "file_extension": ".py",
   "mimetype": "text/x-python",
   "name": "python",
   "nbconvert_exporter": "python",
   "pygments_lexer": "ipython3",
   "version": "3.7.12"
  },
  "papermill": {
   "default_parameters": {},
   "duration": 22.040822,
   "end_time": "2022-11-12T03:49:20.410294",
   "environment_variables": {},
   "exception": null,
   "input_path": "__notebook__.ipynb",
   "output_path": "__notebook__.ipynb",
   "parameters": {},
   "start_time": "2022-11-12T03:48:58.369472",
   "version": "2.3.4"
  }
 },
 "nbformat": 4,
 "nbformat_minor": 5
}
