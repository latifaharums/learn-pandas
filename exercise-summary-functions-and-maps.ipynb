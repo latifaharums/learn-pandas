{
 "cells": [
  {
   "cell_type": "markdown",
   "id": "42232326",
   "metadata": {
    "papermill": {
     "duration": 0.006334,
     "end_time": "2022-11-12T04:07:07.291976",
     "exception": false,
     "start_time": "2022-11-12T04:07:07.285642",
     "status": "completed"
    },
    "tags": []
   },
   "source": [
    "**This notebook is an exercise in the [Pandas](https://www.kaggle.com/learn/pandas) course.  You can reference the tutorial at [this link](https://www.kaggle.com/residentmario/summary-functions-and-maps).**\n",
    "\n",
    "---\n"
   ]
  },
  {
   "cell_type": "markdown",
   "id": "fe11687d",
   "metadata": {
    "papermill": {
     "duration": 0.005403,
     "end_time": "2022-11-12T04:07:07.303140",
     "exception": false,
     "start_time": "2022-11-12T04:07:07.297737",
     "status": "completed"
    },
    "tags": []
   },
   "source": [
    "# Introduction\n",
    "\n",
    "Now you are ready to get a deeper understanding of your data.\n",
    "\n",
    "Run the following cell to load your data and some utility functions (including code to check your answers)."
   ]
  },
  {
   "cell_type": "code",
   "execution_count": 1,
   "id": "692a651b",
   "metadata": {
    "execution": {
     "iopub.execute_input": "2022-11-12T04:07:07.316417Z",
     "iopub.status.busy": "2022-11-12T04:07:07.315787Z",
     "iopub.status.idle": "2022-11-12T04:07:13.281436Z",
     "shell.execute_reply": "2022-11-12T04:07:13.279949Z"
    },
    "papermill": {
     "duration": 5.974454,
     "end_time": "2022-11-12T04:07:13.283440",
     "exception": false,
     "start_time": "2022-11-12T04:07:07.308986",
     "status": "completed"
    },
    "tags": []
   },
   "outputs": [
    {
     "name": "stdout",
     "output_type": "stream",
     "text": [
      "Setup complete.\n"
     ]
    },
    {
     "data": {
      "text/html": [
       "<div>\n",
       "<style scoped>\n",
       "    .dataframe tbody tr th:only-of-type {\n",
       "        vertical-align: middle;\n",
       "    }\n",
       "\n",
       "    .dataframe tbody tr th {\n",
       "        vertical-align: top;\n",
       "    }\n",
       "\n",
       "    .dataframe thead th {\n",
       "        text-align: right;\n",
       "    }\n",
       "</style>\n",
       "<table border=\"1\" class=\"dataframe\">\n",
       "  <thead>\n",
       "    <tr style=\"text-align: right;\">\n",
       "      <th></th>\n",
       "      <th>country</th>\n",
       "      <th>description</th>\n",
       "      <th>designation</th>\n",
       "      <th>points</th>\n",
       "      <th>price</th>\n",
       "      <th>province</th>\n",
       "      <th>region_1</th>\n",
       "      <th>region_2</th>\n",
       "      <th>taster_name</th>\n",
       "      <th>taster_twitter_handle</th>\n",
       "      <th>title</th>\n",
       "      <th>variety</th>\n",
       "      <th>winery</th>\n",
       "    </tr>\n",
       "  </thead>\n",
       "  <tbody>\n",
       "    <tr>\n",
       "      <th>0</th>\n",
       "      <td>Italy</td>\n",
       "      <td>Aromas include tropical fruit, broom, brimston...</td>\n",
       "      <td>Vulkà Bianco</td>\n",
       "      <td>87</td>\n",
       "      <td>NaN</td>\n",
       "      <td>Sicily &amp; Sardinia</td>\n",
       "      <td>Etna</td>\n",
       "      <td>NaN</td>\n",
       "      <td>Kerin O’Keefe</td>\n",
       "      <td>@kerinokeefe</td>\n",
       "      <td>Nicosia 2013 Vulkà Bianco  (Etna)</td>\n",
       "      <td>White Blend</td>\n",
       "      <td>Nicosia</td>\n",
       "    </tr>\n",
       "    <tr>\n",
       "      <th>1</th>\n",
       "      <td>Portugal</td>\n",
       "      <td>This is ripe and fruity, a wine that is smooth...</td>\n",
       "      <td>Avidagos</td>\n",
       "      <td>87</td>\n",
       "      <td>15.0</td>\n",
       "      <td>Douro</td>\n",
       "      <td>NaN</td>\n",
       "      <td>NaN</td>\n",
       "      <td>Roger Voss</td>\n",
       "      <td>@vossroger</td>\n",
       "      <td>Quinta dos Avidagos 2011 Avidagos Red (Douro)</td>\n",
       "      <td>Portuguese Red</td>\n",
       "      <td>Quinta dos Avidagos</td>\n",
       "    </tr>\n",
       "    <tr>\n",
       "      <th>2</th>\n",
       "      <td>US</td>\n",
       "      <td>Tart and snappy, the flavors of lime flesh and...</td>\n",
       "      <td>NaN</td>\n",
       "      <td>87</td>\n",
       "      <td>14.0</td>\n",
       "      <td>Oregon</td>\n",
       "      <td>Willamette Valley</td>\n",
       "      <td>Willamette Valley</td>\n",
       "      <td>Paul Gregutt</td>\n",
       "      <td>@paulgwine</td>\n",
       "      <td>Rainstorm 2013 Pinot Gris (Willamette Valley)</td>\n",
       "      <td>Pinot Gris</td>\n",
       "      <td>Rainstorm</td>\n",
       "    </tr>\n",
       "    <tr>\n",
       "      <th>3</th>\n",
       "      <td>US</td>\n",
       "      <td>Pineapple rind, lemon pith and orange blossom ...</td>\n",
       "      <td>Reserve Late Harvest</td>\n",
       "      <td>87</td>\n",
       "      <td>13.0</td>\n",
       "      <td>Michigan</td>\n",
       "      <td>Lake Michigan Shore</td>\n",
       "      <td>NaN</td>\n",
       "      <td>Alexander Peartree</td>\n",
       "      <td>NaN</td>\n",
       "      <td>St. Julian 2013 Reserve Late Harvest Riesling ...</td>\n",
       "      <td>Riesling</td>\n",
       "      <td>St. Julian</td>\n",
       "    </tr>\n",
       "    <tr>\n",
       "      <th>4</th>\n",
       "      <td>US</td>\n",
       "      <td>Much like the regular bottling from 2012, this...</td>\n",
       "      <td>Vintner's Reserve Wild Child Block</td>\n",
       "      <td>87</td>\n",
       "      <td>65.0</td>\n",
       "      <td>Oregon</td>\n",
       "      <td>Willamette Valley</td>\n",
       "      <td>Willamette Valley</td>\n",
       "      <td>Paul Gregutt</td>\n",
       "      <td>@paulgwine</td>\n",
       "      <td>Sweet Cheeks 2012 Vintner's Reserve Wild Child...</td>\n",
       "      <td>Pinot Noir</td>\n",
       "      <td>Sweet Cheeks</td>\n",
       "    </tr>\n",
       "  </tbody>\n",
       "</table>\n",
       "</div>"
      ],
      "text/plain": [
       "    country                                        description  \\\n",
       "0     Italy  Aromas include tropical fruit, broom, brimston...   \n",
       "1  Portugal  This is ripe and fruity, a wine that is smooth...   \n",
       "2        US  Tart and snappy, the flavors of lime flesh and...   \n",
       "3        US  Pineapple rind, lemon pith and orange blossom ...   \n",
       "4        US  Much like the regular bottling from 2012, this...   \n",
       "\n",
       "                          designation  points  price           province  \\\n",
       "0                        Vulkà Bianco      87    NaN  Sicily & Sardinia   \n",
       "1                            Avidagos      87   15.0              Douro   \n",
       "2                                 NaN      87   14.0             Oregon   \n",
       "3                Reserve Late Harvest      87   13.0           Michigan   \n",
       "4  Vintner's Reserve Wild Child Block      87   65.0             Oregon   \n",
       "\n",
       "              region_1           region_2         taster_name  \\\n",
       "0                 Etna                NaN       Kerin O’Keefe   \n",
       "1                  NaN                NaN          Roger Voss   \n",
       "2    Willamette Valley  Willamette Valley        Paul Gregutt   \n",
       "3  Lake Michigan Shore                NaN  Alexander Peartree   \n",
       "4    Willamette Valley  Willamette Valley        Paul Gregutt   \n",
       "\n",
       "  taster_twitter_handle                                              title  \\\n",
       "0          @kerinokeefe                  Nicosia 2013 Vulkà Bianco  (Etna)   \n",
       "1            @vossroger      Quinta dos Avidagos 2011 Avidagos Red (Douro)   \n",
       "2           @paulgwine       Rainstorm 2013 Pinot Gris (Willamette Valley)   \n",
       "3                   NaN  St. Julian 2013 Reserve Late Harvest Riesling ...   \n",
       "4           @paulgwine   Sweet Cheeks 2012 Vintner's Reserve Wild Child...   \n",
       "\n",
       "          variety               winery  \n",
       "0     White Blend              Nicosia  \n",
       "1  Portuguese Red  Quinta dos Avidagos  \n",
       "2      Pinot Gris            Rainstorm  \n",
       "3        Riesling           St. Julian  \n",
       "4      Pinot Noir         Sweet Cheeks  "
      ]
     },
     "execution_count": 1,
     "metadata": {},
     "output_type": "execute_result"
    }
   ],
   "source": [
    "import pandas as pd\n",
    "pd.set_option(\"display.max_rows\", 5)\n",
    "reviews = pd.read_csv(\"../input/wine-reviews/winemag-data-130k-v2.csv\", index_col=0)\n",
    "\n",
    "from learntools.core import binder; binder.bind(globals())\n",
    "from learntools.pandas.summary_functions_and_maps import *\n",
    "print(\"Setup complete.\")\n",
    "\n",
    "reviews.head()"
   ]
  },
  {
   "cell_type": "markdown",
   "id": "8fb1a709",
   "metadata": {
    "papermill": {
     "duration": 0.005407,
     "end_time": "2022-11-12T04:07:13.294873",
     "exception": false,
     "start_time": "2022-11-12T04:07:13.289466",
     "status": "completed"
    },
    "tags": []
   },
   "source": [
    "# Exercises"
   ]
  },
  {
   "cell_type": "markdown",
   "id": "41082d73",
   "metadata": {
    "papermill": {
     "duration": 0.005387,
     "end_time": "2022-11-12T04:07:13.305980",
     "exception": false,
     "start_time": "2022-11-12T04:07:13.300593",
     "status": "completed"
    },
    "tags": []
   },
   "source": [
    "## 1.\n",
    "\n",
    "What is the median of the `points` column in the `reviews` DataFrame?"
   ]
  },
  {
   "cell_type": "code",
   "execution_count": 2,
   "id": "d3cbb3c4",
   "metadata": {
    "execution": {
     "iopub.execute_input": "2022-11-12T04:07:13.318843Z",
     "iopub.status.busy": "2022-11-12T04:07:13.318519Z",
     "iopub.status.idle": "2022-11-12T04:07:13.328929Z",
     "shell.execute_reply": "2022-11-12T04:07:13.327647Z"
    },
    "papermill": {
     "duration": 0.01913,
     "end_time": "2022-11-12T04:07:13.330771",
     "exception": false,
     "start_time": "2022-11-12T04:07:13.311641",
     "status": "completed"
    },
    "tags": []
   },
   "outputs": [
    {
     "name": "stdout",
     "output_type": "stream",
     "text": [
      "88.0\n"
     ]
    },
    {
     "data": {
      "application/javascript": [
       "parent.postMessage({\"jupyterEvent\": \"custom.exercise_interaction\", \"data\": {\"outcomeType\": 1, \"valueTowardsCompletion\": 0.14285714285714285, \"interactionType\": 1, \"questionType\": 1, \"questionId\": \"1_MedianPoints\", \"learnToolsVersion\": \"0.3.4\", \"failureMessage\": \"\", \"exceptionClass\": \"\", \"trace\": \"\"}}, \"*\")"
      ],
      "text/plain": [
       "<IPython.core.display.Javascript object>"
      ]
     },
     "metadata": {},
     "output_type": "display_data"
    },
    {
     "data": {
      "text/markdown": [
       "<span style=\"color:#33cc33\">Correct</span>"
      ],
      "text/plain": [
       "Correct"
      ]
     },
     "metadata": {},
     "output_type": "display_data"
    }
   ],
   "source": [
    "median_points = reviews.points.median()\n",
    "print(median_points)\n",
    "\n",
    "# Check your answer\n",
    "q1.check()"
   ]
  },
  {
   "cell_type": "code",
   "execution_count": 3,
   "id": "1a69828f",
   "metadata": {
    "execution": {
     "iopub.execute_input": "2022-11-12T04:07:13.345721Z",
     "iopub.status.busy": "2022-11-12T04:07:13.345342Z",
     "iopub.status.idle": "2022-11-12T04:07:13.349370Z",
     "shell.execute_reply": "2022-11-12T04:07:13.348354Z"
    },
    "papermill": {
     "duration": 0.014194,
     "end_time": "2022-11-12T04:07:13.351053",
     "exception": false,
     "start_time": "2022-11-12T04:07:13.336859",
     "status": "completed"
    },
    "tags": []
   },
   "outputs": [],
   "source": [
    "#q1.hint()\n",
    "#q1.solution()"
   ]
  },
  {
   "cell_type": "markdown",
   "id": "3ae3e052",
   "metadata": {
    "papermill": {
     "duration": 0.005741,
     "end_time": "2022-11-12T04:07:13.362876",
     "exception": false,
     "start_time": "2022-11-12T04:07:13.357135",
     "status": "completed"
    },
    "tags": []
   },
   "source": [
    "## 2. \n",
    "What countries are represented in the dataset? (Your answer should not include any duplicates.)"
   ]
  },
  {
   "cell_type": "code",
   "execution_count": 4,
   "id": "e85816a8",
   "metadata": {
    "execution": {
     "iopub.execute_input": "2022-11-12T04:07:13.376449Z",
     "iopub.status.busy": "2022-11-12T04:07:13.376057Z",
     "iopub.status.idle": "2022-11-12T04:07:13.390590Z",
     "shell.execute_reply": "2022-11-12T04:07:13.389635Z"
    },
    "papermill": {
     "duration": 0.023594,
     "end_time": "2022-11-12T04:07:13.392367",
     "exception": false,
     "start_time": "2022-11-12T04:07:13.368773",
     "status": "completed"
    },
    "tags": []
   },
   "outputs": [
    {
     "name": "stdout",
     "output_type": "stream",
     "text": [
      "['Italy' 'Portugal' 'US' 'Spain' 'France' 'Germany' 'Argentina' 'Chile'\n",
      " 'Australia' 'Austria' 'South Africa' 'New Zealand' 'Israel' 'Hungary'\n",
      " 'Greece' 'Romania' 'Mexico' 'Canada' nan 'Turkey' 'Czech Republic'\n",
      " 'Slovenia' 'Luxembourg' 'Croatia' 'Georgia' 'Uruguay' 'England' 'Lebanon'\n",
      " 'Serbia' 'Brazil' 'Moldova' 'Morocco' 'Peru' 'India' 'Bulgaria' 'Cyprus'\n",
      " 'Armenia' 'Switzerland' 'Bosnia and Herzegovina' 'Ukraine' 'Slovakia'\n",
      " 'Macedonia' 'China' 'Egypt']\n"
     ]
    },
    {
     "data": {
      "application/javascript": [
       "parent.postMessage({\"jupyterEvent\": \"custom.exercise_interaction\", \"data\": {\"outcomeType\": 1, \"valueTowardsCompletion\": 0.14285714285714285, \"interactionType\": 1, \"questionType\": 2, \"questionId\": \"2_UniqueCountries\", \"learnToolsVersion\": \"0.3.4\", \"failureMessage\": \"\", \"exceptionClass\": \"\", \"trace\": \"\"}}, \"*\")"
      ],
      "text/plain": [
       "<IPython.core.display.Javascript object>"
      ]
     },
     "metadata": {},
     "output_type": "display_data"
    },
    {
     "data": {
      "text/markdown": [
       "<span style=\"color:#33cc33\">Correct</span>"
      ],
      "text/plain": [
       "Correct"
      ]
     },
     "metadata": {},
     "output_type": "display_data"
    }
   ],
   "source": [
    "countries = reviews.country.unique()\n",
    "print(countries)\n",
    "\n",
    "# Check your answer\n",
    "q2.check()"
   ]
  },
  {
   "cell_type": "code",
   "execution_count": 5,
   "id": "c48c8a46",
   "metadata": {
    "execution": {
     "iopub.execute_input": "2022-11-12T04:07:13.406735Z",
     "iopub.status.busy": "2022-11-12T04:07:13.406353Z",
     "iopub.status.idle": "2022-11-12T04:07:13.410913Z",
     "shell.execute_reply": "2022-11-12T04:07:13.409637Z"
    },
    "papermill": {
     "duration": 0.014106,
     "end_time": "2022-11-12T04:07:13.412905",
     "exception": false,
     "start_time": "2022-11-12T04:07:13.398799",
     "status": "completed"
    },
    "tags": []
   },
   "outputs": [],
   "source": [
    "#q2.hint()\n",
    "#q2.solution()"
   ]
  },
  {
   "cell_type": "markdown",
   "id": "aee2331f",
   "metadata": {
    "papermill": {
     "duration": 0.006055,
     "end_time": "2022-11-12T04:07:13.425240",
     "exception": false,
     "start_time": "2022-11-12T04:07:13.419185",
     "status": "completed"
    },
    "tags": []
   },
   "source": [
    "## 3.\n",
    "How often does each country appear in the dataset? Create a Series `reviews_per_country` mapping countries to the count of reviews of wines from that country."
   ]
  },
  {
   "cell_type": "code",
   "execution_count": 6,
   "id": "412f661c",
   "metadata": {
    "execution": {
     "iopub.execute_input": "2022-11-12T04:07:13.439465Z",
     "iopub.status.busy": "2022-11-12T04:07:13.438973Z",
     "iopub.status.idle": "2022-11-12T04:07:13.455813Z",
     "shell.execute_reply": "2022-11-12T04:07:13.454775Z"
    },
    "papermill": {
     "duration": 0.026053,
     "end_time": "2022-11-12T04:07:13.457508",
     "exception": false,
     "start_time": "2022-11-12T04:07:13.431455",
     "status": "completed"
    },
    "tags": []
   },
   "outputs": [
    {
     "name": "stdout",
     "output_type": "stream",
     "text": [
      "US        54504\n",
      "France    22093\n",
      "          ...  \n",
      "China         1\n",
      "Egypt         1\n",
      "Name: country, Length: 43, dtype: int64\n"
     ]
    },
    {
     "data": {
      "application/javascript": [
       "parent.postMessage({\"jupyterEvent\": \"custom.exercise_interaction\", \"data\": {\"outcomeType\": 1, \"valueTowardsCompletion\": 0.14285714285714285, \"interactionType\": 1, \"questionType\": 1, \"questionId\": \"3_ReviewsPerCountry\", \"learnToolsVersion\": \"0.3.4\", \"failureMessage\": \"\", \"exceptionClass\": \"\", \"trace\": \"\"}}, \"*\")"
      ],
      "text/plain": [
       "<IPython.core.display.Javascript object>"
      ]
     },
     "metadata": {},
     "output_type": "display_data"
    },
    {
     "data": {
      "text/markdown": [
       "<span style=\"color:#33cc33\">Correct</span>"
      ],
      "text/plain": [
       "Correct"
      ]
     },
     "metadata": {},
     "output_type": "display_data"
    }
   ],
   "source": [
    "reviews_per_country = reviews.country.value_counts()\n",
    "print(reviews_per_country)\n",
    "\n",
    "# Check your answer\n",
    "q3.check()"
   ]
  },
  {
   "cell_type": "code",
   "execution_count": 7,
   "id": "db531683",
   "metadata": {
    "execution": {
     "iopub.execute_input": "2022-11-12T04:07:13.472852Z",
     "iopub.status.busy": "2022-11-12T04:07:13.472458Z",
     "iopub.status.idle": "2022-11-12T04:07:13.476459Z",
     "shell.execute_reply": "2022-11-12T04:07:13.475483Z"
    },
    "papermill": {
     "duration": 0.013801,
     "end_time": "2022-11-12T04:07:13.478179",
     "exception": false,
     "start_time": "2022-11-12T04:07:13.464378",
     "status": "completed"
    },
    "tags": []
   },
   "outputs": [],
   "source": [
    "#q3.hint()\n",
    "#q3.solution()"
   ]
  },
  {
   "cell_type": "markdown",
   "id": "74bfcf88",
   "metadata": {
    "papermill": {
     "duration": 0.006459,
     "end_time": "2022-11-12T04:07:13.491472",
     "exception": false,
     "start_time": "2022-11-12T04:07:13.485013",
     "status": "completed"
    },
    "tags": []
   },
   "source": [
    "## 4.\n",
    "Create variable `centered_price` containing a version of the `price` column with the mean price subtracted.\n",
    "\n",
    "(Note: this 'centering' transformation is a common preprocessing step before applying various machine learning algorithms.) "
   ]
  },
  {
   "cell_type": "code",
   "execution_count": 8,
   "id": "670af382",
   "metadata": {
    "execution": {
     "iopub.execute_input": "2022-11-12T04:07:13.506567Z",
     "iopub.status.busy": "2022-11-12T04:07:13.506169Z",
     "iopub.status.idle": "2022-11-12T04:07:13.518727Z",
     "shell.execute_reply": "2022-11-12T04:07:13.517434Z"
    },
    "papermill": {
     "duration": 0.022646,
     "end_time": "2022-11-12T04:07:13.520733",
     "exception": false,
     "start_time": "2022-11-12T04:07:13.498087",
     "status": "completed"
    },
    "tags": []
   },
   "outputs": [
    {
     "name": "stdout",
     "output_type": "stream",
     "text": [
      "0               NaN\n",
      "1        -20.363389\n",
      "            ...    \n",
      "129969    -3.363389\n",
      "129970   -14.363389\n",
      "Name: price, Length: 129971, dtype: float64\n"
     ]
    },
    {
     "data": {
      "application/javascript": [
       "parent.postMessage({\"jupyterEvent\": \"custom.exercise_interaction\", \"data\": {\"outcomeType\": 1, \"valueTowardsCompletion\": 0.14285714285714285, \"interactionType\": 1, \"questionType\": 1, \"questionId\": \"4_CenteredPrice\", \"learnToolsVersion\": \"0.3.4\", \"failureMessage\": \"\", \"exceptionClass\": \"\", \"trace\": \"\"}}, \"*\")"
      ],
      "text/plain": [
       "<IPython.core.display.Javascript object>"
      ]
     },
     "metadata": {},
     "output_type": "display_data"
    },
    {
     "data": {
      "text/markdown": [
       "<span style=\"color:#33cc33\">Correct</span>"
      ],
      "text/plain": [
       "Correct"
      ]
     },
     "metadata": {},
     "output_type": "display_data"
    }
   ],
   "source": [
    "centered_price = reviews.price - reviews.price.mean()\n",
    "print(centered_price)\n",
    "\n",
    "# Check your answer\n",
    "q4.check()"
   ]
  },
  {
   "cell_type": "code",
   "execution_count": 9,
   "id": "f65d952f",
   "metadata": {
    "execution": {
     "iopub.execute_input": "2022-11-12T04:07:13.536729Z",
     "iopub.status.busy": "2022-11-12T04:07:13.536332Z",
     "iopub.status.idle": "2022-11-12T04:07:13.540053Z",
     "shell.execute_reply": "2022-11-12T04:07:13.539125Z"
    },
    "papermill": {
     "duration": 0.014612,
     "end_time": "2022-11-12T04:07:13.542508",
     "exception": false,
     "start_time": "2022-11-12T04:07:13.527896",
     "status": "completed"
    },
    "tags": []
   },
   "outputs": [],
   "source": [
    "#q4.hint()\n",
    "#q4.solution()"
   ]
  },
  {
   "cell_type": "markdown",
   "id": "63d90d74",
   "metadata": {
    "papermill": {
     "duration": 0.006834,
     "end_time": "2022-11-12T04:07:13.556840",
     "exception": false,
     "start_time": "2022-11-12T04:07:13.550006",
     "status": "completed"
    },
    "tags": []
   },
   "source": [
    "## 5.\n",
    "I'm an economical wine buyer. Which wine is the \"best bargain\"? Create a variable `bargain_wine` with the title of the wine with the highest points-to-price ratio in the dataset."
   ]
  },
  {
   "cell_type": "code",
   "execution_count": 10,
   "id": "88e543ef",
   "metadata": {
    "execution": {
     "iopub.execute_input": "2022-11-12T04:07:13.572496Z",
     "iopub.status.busy": "2022-11-12T04:07:13.572110Z",
     "iopub.status.idle": "2022-11-12T04:07:13.585607Z",
     "shell.execute_reply": "2022-11-12T04:07:13.584597Z"
    },
    "papermill": {
     "duration": 0.023588,
     "end_time": "2022-11-12T04:07:13.587518",
     "exception": false,
     "start_time": "2022-11-12T04:07:13.563930",
     "status": "completed"
    },
    "tags": []
   },
   "outputs": [
    {
     "name": "stdout",
     "output_type": "stream",
     "text": [
      "Bandit NV Merlot (California)\n"
     ]
    },
    {
     "data": {
      "application/javascript": [
       "parent.postMessage({\"jupyterEvent\": \"custom.exercise_interaction\", \"data\": {\"outcomeType\": 1, \"valueTowardsCompletion\": 0.14285714285714285, \"interactionType\": 1, \"questionType\": 2, \"questionId\": \"5_BargainWine\", \"learnToolsVersion\": \"0.3.4\", \"failureMessage\": \"\", \"exceptionClass\": \"\", \"trace\": \"\"}}, \"*\")"
      ],
      "text/plain": [
       "<IPython.core.display.Javascript object>"
      ]
     },
     "metadata": {},
     "output_type": "display_data"
    },
    {
     "data": {
      "text/markdown": [
       "<span style=\"color:#33cc33\">Correct</span>"
      ],
      "text/plain": [
       "Correct"
      ]
     },
     "metadata": {},
     "output_type": "display_data"
    }
   ],
   "source": [
    "bargain_idx = (reviews.points / reviews.price).idxmax()\n",
    "bargain_wine = reviews.loc[bargain_idx, 'title']\n",
    "\n",
    "print(bargain_wine)\n",
    "\n",
    "# Check your answer\n",
    "q5.check()"
   ]
  },
  {
   "cell_type": "code",
   "execution_count": 11,
   "id": "70a03106",
   "metadata": {
    "execution": {
     "iopub.execute_input": "2022-11-12T04:07:13.603750Z",
     "iopub.status.busy": "2022-11-12T04:07:13.603384Z",
     "iopub.status.idle": "2022-11-12T04:07:13.607498Z",
     "shell.execute_reply": "2022-11-12T04:07:13.606521Z"
    },
    "papermill": {
     "duration": 0.014421,
     "end_time": "2022-11-12T04:07:13.609222",
     "exception": false,
     "start_time": "2022-11-12T04:07:13.594801",
     "status": "completed"
    },
    "tags": []
   },
   "outputs": [],
   "source": [
    "#q5.hint()\n",
    "#q5.solution()"
   ]
  },
  {
   "cell_type": "markdown",
   "id": "f68d51a6",
   "metadata": {
    "papermill": {
     "duration": 0.006924,
     "end_time": "2022-11-12T04:07:13.623544",
     "exception": false,
     "start_time": "2022-11-12T04:07:13.616620",
     "status": "completed"
    },
    "tags": []
   },
   "source": [
    "## 6.\n",
    "There are only so many words you can use when describing a bottle of wine. Is a wine more likely to be \"tropical\" or \"fruity\"? Create a Series `descriptor_counts` counting how many times each of these two words appears in the `description` column in the dataset. (For simplicity, let's ignore the capitalized versions of these words.)"
   ]
  },
  {
   "cell_type": "code",
   "execution_count": 12,
   "id": "13b0e57c",
   "metadata": {
    "execution": {
     "iopub.execute_input": "2022-11-12T04:07:13.639288Z",
     "iopub.status.busy": "2022-11-12T04:07:13.638896Z",
     "iopub.status.idle": "2022-11-12T04:07:13.748473Z",
     "shell.execute_reply": "2022-11-12T04:07:13.747528Z"
    },
    "papermill": {
     "duration": 0.120028,
     "end_time": "2022-11-12T04:07:13.750518",
     "exception": false,
     "start_time": "2022-11-12T04:07:13.630490",
     "status": "completed"
    },
    "tags": []
   },
   "outputs": [
    {
     "name": "stdout",
     "output_type": "stream",
     "text": [
      "tropical    3607\n",
      "fruity      9090\n",
      "dtype: int64\n"
     ]
    },
    {
     "data": {
      "application/javascript": [
       "parent.postMessage({\"jupyterEvent\": \"custom.exercise_interaction\", \"data\": {\"outcomeType\": 1, \"valueTowardsCompletion\": 0.14285714285714285, \"interactionType\": 1, \"questionType\": 1, \"questionId\": \"6_DescriptorCounts\", \"learnToolsVersion\": \"0.3.4\", \"failureMessage\": \"\", \"exceptionClass\": \"\", \"trace\": \"\"}}, \"*\")"
      ],
      "text/plain": [
       "<IPython.core.display.Javascript object>"
      ]
     },
     "metadata": {},
     "output_type": "display_data"
    },
    {
     "data": {
      "text/markdown": [
       "<span style=\"color:#33cc33\">Correct</span>"
      ],
      "text/plain": [
       "Correct"
      ]
     },
     "metadata": {},
     "output_type": "display_data"
    }
   ],
   "source": [
    "n_trop = reviews.description.map(lambda desc: \"tropical\" in desc).sum()\n",
    "n_fruity = reviews.description.map(lambda desc: \"fruity\" in desc).sum()\n",
    "descriptor_counts = pd.Series([n_trop, n_fruity], index=['tropical', 'fruity'])\n",
    "\n",
    "print(descriptor_counts)\n",
    "\n",
    "# Check your answer\n",
    "q6.check()"
   ]
  },
  {
   "cell_type": "code",
   "execution_count": 13,
   "id": "070b0c72",
   "metadata": {
    "execution": {
     "iopub.execute_input": "2022-11-12T04:07:13.767341Z",
     "iopub.status.busy": "2022-11-12T04:07:13.766933Z",
     "iopub.status.idle": "2022-11-12T04:07:13.770951Z",
     "shell.execute_reply": "2022-11-12T04:07:13.769859Z"
    },
    "papermill": {
     "duration": 0.014936,
     "end_time": "2022-11-12T04:07:13.772942",
     "exception": false,
     "start_time": "2022-11-12T04:07:13.758006",
     "status": "completed"
    },
    "tags": []
   },
   "outputs": [],
   "source": [
    "#q6.hint()\n",
    "#q6.solution()"
   ]
  },
  {
   "cell_type": "markdown",
   "id": "fb8eb456",
   "metadata": {
    "papermill": {
     "duration": 0.007206,
     "end_time": "2022-11-12T04:07:13.787872",
     "exception": false,
     "start_time": "2022-11-12T04:07:13.780666",
     "status": "completed"
    },
    "tags": []
   },
   "source": [
    "## 7.\n",
    "We'd like to host these wine reviews on our website, but a rating system ranging from 80 to 100 points is too hard to understand - we'd like to translate them into simple star ratings. A score of 95 or higher counts as 3 stars, a score of at least 85 but less than 95 is 2 stars. Any other score is 1 star.\n",
    "\n",
    "Also, the Canadian Vintners Association bought a lot of ads on the site, so any wines from Canada should automatically get 3 stars, regardless of points.\n",
    "\n",
    "Create a series `star_ratings` with the number of stars corresponding to each review in the dataset."
   ]
  },
  {
   "cell_type": "code",
   "execution_count": 14,
   "id": "18ac9358",
   "metadata": {
    "execution": {
     "iopub.execute_input": "2022-11-12T04:07:13.804475Z",
     "iopub.status.busy": "2022-11-12T04:07:13.804080Z",
     "iopub.status.idle": "2022-11-12T04:07:17.346531Z",
     "shell.execute_reply": "2022-11-12T04:07:17.345541Z"
    },
    "papermill": {
     "duration": 3.553598,
     "end_time": "2022-11-12T04:07:17.348860",
     "exception": false,
     "start_time": "2022-11-12T04:07:13.795262",
     "status": "completed"
    },
    "tags": []
   },
   "outputs": [
    {
     "name": "stdout",
     "output_type": "stream",
     "text": [
      "0         2\n",
      "1         2\n",
      "         ..\n",
      "129969    2\n",
      "129970    2\n",
      "Length: 129971, dtype: int64\n"
     ]
    },
    {
     "data": {
      "application/javascript": [
       "parent.postMessage({\"jupyterEvent\": \"custom.exercise_interaction\", \"data\": {\"outcomeType\": 1, \"valueTowardsCompletion\": 0.14285714285714285, \"interactionType\": 1, \"questionType\": 1, \"questionId\": \"7_StarRatings\", \"learnToolsVersion\": \"0.3.4\", \"failureMessage\": \"\", \"exceptionClass\": \"\", \"trace\": \"\"}}, \"*\")"
      ],
      "text/plain": [
       "<IPython.core.display.Javascript object>"
      ]
     },
     "metadata": {},
     "output_type": "display_data"
    },
    {
     "data": {
      "text/markdown": [
       "<span style=\"color:#33cc33\">Correct</span>"
      ],
      "text/plain": [
       "Correct"
      ]
     },
     "metadata": {},
     "output_type": "display_data"
    }
   ],
   "source": [
    "def stars(row):\n",
    "    if row.country == 'Canada':\n",
    "        return 3\n",
    "    elif row.points >= 95:\n",
    "        return 3\n",
    "    elif row.points >= 85:\n",
    "        return 2\n",
    "    else:\n",
    "        return 1\n",
    "\n",
    "star_ratings = reviews.apply(stars, axis='columns')\n",
    "bargain_wine = reviews.loc[star_ratings, 'winery']\n",
    "print(star_ratings)\n",
    "\n",
    "# Check your answer\n",
    "q7.check()"
   ]
  },
  {
   "cell_type": "code",
   "execution_count": 15,
   "id": "be5e1697",
   "metadata": {
    "execution": {
     "iopub.execute_input": "2022-11-12T04:07:17.366184Z",
     "iopub.status.busy": "2022-11-12T04:07:17.365826Z",
     "iopub.status.idle": "2022-11-12T04:07:17.382087Z",
     "shell.execute_reply": "2022-11-12T04:07:17.380623Z"
    },
    "papermill": {
     "duration": 0.027263,
     "end_time": "2022-11-12T04:07:17.384152",
     "exception": false,
     "start_time": "2022-11-12T04:07:17.356889",
     "status": "completed"
    },
    "tags": []
   },
   "outputs": [
    {
     "name": "stdout",
     "output_type": "stream",
     "text": [
      "                                                    title  ratings\n",
      "0                       Nicosia 2013 Vulkà Bianco  (Etna)        2\n",
      "1           Quinta dos Avidagos 2011 Avidagos Red (Douro)        2\n",
      "...                                                   ...      ...\n",
      "129969      Domaine Marcel Deiss 2012 Pinot Gris (Alsace)        2\n",
      "129970  Domaine Schoffit 2012 Lieu-dit Harth Cuvée Car...        2\n",
      "\n",
      "[129971 rows x 2 columns]\n"
     ]
    }
   ],
   "source": [
    "reviews['ratings'] = star_ratings\n",
    "reviews[['title', 'ratings']]\n",
    "ratings_df = reviews[['title', 'ratings']]\n",
    "print(ratings_df)"
   ]
  },
  {
   "cell_type": "raw",
   "id": "09e92f90",
   "metadata": {
    "papermill": {
     "duration": 0.007289,
     "end_time": "2022-11-12T04:07:17.399432",
     "exception": false,
     "start_time": "2022-11-12T04:07:17.392143",
     "status": "completed"
    },
    "tags": []
   },
   "source": []
  },
  {
   "cell_type": "code",
   "execution_count": 16,
   "id": "9dfdfe2e",
   "metadata": {
    "execution": {
     "iopub.execute_input": "2022-11-12T04:07:17.416254Z",
     "iopub.status.busy": "2022-11-12T04:07:17.415925Z",
     "iopub.status.idle": "2022-11-12T04:07:17.420204Z",
     "shell.execute_reply": "2022-11-12T04:07:17.419217Z"
    },
    "papermill": {
     "duration": 0.014914,
     "end_time": "2022-11-12T04:07:17.421973",
     "exception": false,
     "start_time": "2022-11-12T04:07:17.407059",
     "status": "completed"
    },
    "tags": []
   },
   "outputs": [],
   "source": [
    "#q7.hint()\n",
    "#q7.solution()"
   ]
  },
  {
   "cell_type": "markdown",
   "id": "ab1e0893",
   "metadata": {
    "papermill": {
     "duration": 0.007506,
     "end_time": "2022-11-12T04:07:17.437410",
     "exception": false,
     "start_time": "2022-11-12T04:07:17.429904",
     "status": "completed"
    },
    "tags": []
   },
   "source": [
    "# Keep going\n",
    "Continue to **[grouping and sorting](https://www.kaggle.com/residentmario/grouping-and-sorting)**."
   ]
  },
  {
   "cell_type": "markdown",
   "id": "fcd56bf4",
   "metadata": {
    "papermill": {
     "duration": 0.007419,
     "end_time": "2022-11-12T04:07:17.452610",
     "exception": false,
     "start_time": "2022-11-12T04:07:17.445191",
     "status": "completed"
    },
    "tags": []
   },
   "source": [
    "---\n",
    "\n",
    "\n",
    "\n",
    "\n",
    "*Have questions or comments? Visit the [course discussion forum](https://www.kaggle.com/learn/pandas/discussion) to chat with other learners.*"
   ]
  }
 ],
 "metadata": {
  "kernelspec": {
   "display_name": "Python 3",
   "language": "python",
   "name": "python3"
  },
  "language_info": {
   "codemirror_mode": {
    "name": "ipython",
    "version": 3
   },
   "file_extension": ".py",
   "mimetype": "text/x-python",
   "name": "python",
   "nbconvert_exporter": "python",
   "pygments_lexer": "ipython3",
   "version": "3.7.12"
  },
  "papermill": {
   "default_parameters": {},
   "duration": 18.206181,
   "end_time": "2022-11-12T04:07:18.080614",
   "environment_variables": {},
   "exception": null,
   "input_path": "__notebook__.ipynb",
   "output_path": "__notebook__.ipynb",
   "parameters": {},
   "start_time": "2022-11-12T04:06:59.874433",
   "version": "2.3.4"
  }
 },
 "nbformat": 4,
 "nbformat_minor": 5
}
