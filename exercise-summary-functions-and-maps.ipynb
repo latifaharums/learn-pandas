{
 "cells": [
  {
   "cell_type": "markdown",
   "id": "7f719bc2",
   "metadata": {
    "papermill": {
     "duration": 0.006694,
     "end_time": "2022-11-12T03:21:27.199642",
     "exception": false,
     "start_time": "2022-11-12T03:21:27.192948",
     "status": "completed"
    },
    "tags": []
   },
   "source": [
    "**This notebook is an exercise in the [Pandas](https://www.kaggle.com/learn/pandas) course.  You can reference the tutorial at [this link](https://www.kaggle.com/residentmario/summary-functions-and-maps).**\n",
    "\n",
    "---\n"
   ]
  },
  {
   "cell_type": "markdown",
   "id": "bd3ba72e",
   "metadata": {
    "papermill": {
     "duration": 0.005172,
     "end_time": "2022-11-12T03:21:27.210237",
     "exception": false,
     "start_time": "2022-11-12T03:21:27.205065",
     "status": "completed"
    },
    "tags": []
   },
   "source": [
    "# Introduction\n",
    "\n",
    "Now you are ready to get a deeper understanding of your data.\n",
    "\n",
    "Run the following cell to load your data and some utility functions (including code to check your answers)."
   ]
  },
  {
   "cell_type": "code",
   "execution_count": 1,
   "id": "dfa5ca4c",
   "metadata": {
    "execution": {
     "iopub.execute_input": "2022-11-12T03:21:27.223202Z",
     "iopub.status.busy": "2022-11-12T03:21:27.222470Z",
     "iopub.status.idle": "2022-11-12T03:21:33.972441Z",
     "shell.execute_reply": "2022-11-12T03:21:33.971078Z"
    },
    "papermill": {
     "duration": 6.759235,
     "end_time": "2022-11-12T03:21:33.974928",
     "exception": false,
     "start_time": "2022-11-12T03:21:27.215693",
     "status": "completed"
    },
    "tags": []
   },
   "outputs": [
    {
     "name": "stdout",
     "output_type": "stream",
     "text": [
      "Setup complete.\n"
     ]
    },
    {
     "data": {
      "text/html": [
       "<div>\n",
       "<style scoped>\n",
       "    .dataframe tbody tr th:only-of-type {\n",
       "        vertical-align: middle;\n",
       "    }\n",
       "\n",
       "    .dataframe tbody tr th {\n",
       "        vertical-align: top;\n",
       "    }\n",
       "\n",
       "    .dataframe thead th {\n",
       "        text-align: right;\n",
       "    }\n",
       "</style>\n",
       "<table border=\"1\" class=\"dataframe\">\n",
       "  <thead>\n",
       "    <tr style=\"text-align: right;\">\n",
       "      <th></th>\n",
       "      <th>country</th>\n",
       "      <th>description</th>\n",
       "      <th>designation</th>\n",
       "      <th>points</th>\n",
       "      <th>price</th>\n",
       "      <th>province</th>\n",
       "      <th>region_1</th>\n",
       "      <th>region_2</th>\n",
       "      <th>taster_name</th>\n",
       "      <th>taster_twitter_handle</th>\n",
       "      <th>title</th>\n",
       "      <th>variety</th>\n",
       "      <th>winery</th>\n",
       "    </tr>\n",
       "  </thead>\n",
       "  <tbody>\n",
       "    <tr>\n",
       "      <th>0</th>\n",
       "      <td>Italy</td>\n",
       "      <td>Aromas include tropical fruit, broom, brimston...</td>\n",
       "      <td>Vulkà Bianco</td>\n",
       "      <td>87</td>\n",
       "      <td>NaN</td>\n",
       "      <td>Sicily &amp; Sardinia</td>\n",
       "      <td>Etna</td>\n",
       "      <td>NaN</td>\n",
       "      <td>Kerin O’Keefe</td>\n",
       "      <td>@kerinokeefe</td>\n",
       "      <td>Nicosia 2013 Vulkà Bianco  (Etna)</td>\n",
       "      <td>White Blend</td>\n",
       "      <td>Nicosia</td>\n",
       "    </tr>\n",
       "    <tr>\n",
       "      <th>1</th>\n",
       "      <td>Portugal</td>\n",
       "      <td>This is ripe and fruity, a wine that is smooth...</td>\n",
       "      <td>Avidagos</td>\n",
       "      <td>87</td>\n",
       "      <td>15.0</td>\n",
       "      <td>Douro</td>\n",
       "      <td>NaN</td>\n",
       "      <td>NaN</td>\n",
       "      <td>Roger Voss</td>\n",
       "      <td>@vossroger</td>\n",
       "      <td>Quinta dos Avidagos 2011 Avidagos Red (Douro)</td>\n",
       "      <td>Portuguese Red</td>\n",
       "      <td>Quinta dos Avidagos</td>\n",
       "    </tr>\n",
       "    <tr>\n",
       "      <th>2</th>\n",
       "      <td>US</td>\n",
       "      <td>Tart and snappy, the flavors of lime flesh and...</td>\n",
       "      <td>NaN</td>\n",
       "      <td>87</td>\n",
       "      <td>14.0</td>\n",
       "      <td>Oregon</td>\n",
       "      <td>Willamette Valley</td>\n",
       "      <td>Willamette Valley</td>\n",
       "      <td>Paul Gregutt</td>\n",
       "      <td>@paulgwine</td>\n",
       "      <td>Rainstorm 2013 Pinot Gris (Willamette Valley)</td>\n",
       "      <td>Pinot Gris</td>\n",
       "      <td>Rainstorm</td>\n",
       "    </tr>\n",
       "    <tr>\n",
       "      <th>3</th>\n",
       "      <td>US</td>\n",
       "      <td>Pineapple rind, lemon pith and orange blossom ...</td>\n",
       "      <td>Reserve Late Harvest</td>\n",
       "      <td>87</td>\n",
       "      <td>13.0</td>\n",
       "      <td>Michigan</td>\n",
       "      <td>Lake Michigan Shore</td>\n",
       "      <td>NaN</td>\n",
       "      <td>Alexander Peartree</td>\n",
       "      <td>NaN</td>\n",
       "      <td>St. Julian 2013 Reserve Late Harvest Riesling ...</td>\n",
       "      <td>Riesling</td>\n",
       "      <td>St. Julian</td>\n",
       "    </tr>\n",
       "    <tr>\n",
       "      <th>4</th>\n",
       "      <td>US</td>\n",
       "      <td>Much like the regular bottling from 2012, this...</td>\n",
       "      <td>Vintner's Reserve Wild Child Block</td>\n",
       "      <td>87</td>\n",
       "      <td>65.0</td>\n",
       "      <td>Oregon</td>\n",
       "      <td>Willamette Valley</td>\n",
       "      <td>Willamette Valley</td>\n",
       "      <td>Paul Gregutt</td>\n",
       "      <td>@paulgwine</td>\n",
       "      <td>Sweet Cheeks 2012 Vintner's Reserve Wild Child...</td>\n",
       "      <td>Pinot Noir</td>\n",
       "      <td>Sweet Cheeks</td>\n",
       "    </tr>\n",
       "  </tbody>\n",
       "</table>\n",
       "</div>"
      ],
      "text/plain": [
       "    country                                        description  \\\n",
       "0     Italy  Aromas include tropical fruit, broom, brimston...   \n",
       "1  Portugal  This is ripe and fruity, a wine that is smooth...   \n",
       "2        US  Tart and snappy, the flavors of lime flesh and...   \n",
       "3        US  Pineapple rind, lemon pith and orange blossom ...   \n",
       "4        US  Much like the regular bottling from 2012, this...   \n",
       "\n",
       "                          designation  points  price           province  \\\n",
       "0                        Vulkà Bianco      87    NaN  Sicily & Sardinia   \n",
       "1                            Avidagos      87   15.0              Douro   \n",
       "2                                 NaN      87   14.0             Oregon   \n",
       "3                Reserve Late Harvest      87   13.0           Michigan   \n",
       "4  Vintner's Reserve Wild Child Block      87   65.0             Oregon   \n",
       "\n",
       "              region_1           region_2         taster_name  \\\n",
       "0                 Etna                NaN       Kerin O’Keefe   \n",
       "1                  NaN                NaN          Roger Voss   \n",
       "2    Willamette Valley  Willamette Valley        Paul Gregutt   \n",
       "3  Lake Michigan Shore                NaN  Alexander Peartree   \n",
       "4    Willamette Valley  Willamette Valley        Paul Gregutt   \n",
       "\n",
       "  taster_twitter_handle                                              title  \\\n",
       "0          @kerinokeefe                  Nicosia 2013 Vulkà Bianco  (Etna)   \n",
       "1            @vossroger      Quinta dos Avidagos 2011 Avidagos Red (Douro)   \n",
       "2           @paulgwine       Rainstorm 2013 Pinot Gris (Willamette Valley)   \n",
       "3                   NaN  St. Julian 2013 Reserve Late Harvest Riesling ...   \n",
       "4           @paulgwine   Sweet Cheeks 2012 Vintner's Reserve Wild Child...   \n",
       "\n",
       "          variety               winery  \n",
       "0     White Blend              Nicosia  \n",
       "1  Portuguese Red  Quinta dos Avidagos  \n",
       "2      Pinot Gris            Rainstorm  \n",
       "3        Riesling           St. Julian  \n",
       "4      Pinot Noir         Sweet Cheeks  "
      ]
     },
     "execution_count": 1,
     "metadata": {},
     "output_type": "execute_result"
    }
   ],
   "source": [
    "import pandas as pd\n",
    "pd.set_option(\"display.max_rows\", 5)\n",
    "reviews = pd.read_csv(\"../input/wine-reviews/winemag-data-130k-v2.csv\", index_col=0)\n",
    "\n",
    "from learntools.core import binder; binder.bind(globals())\n",
    "from learntools.pandas.summary_functions_and_maps import *\n",
    "print(\"Setup complete.\")\n",
    "\n",
    "reviews.head()"
   ]
  },
  {
   "cell_type": "markdown",
   "id": "0cfcc6c0",
   "metadata": {
    "papermill": {
     "duration": 0.005663,
     "end_time": "2022-11-12T03:21:33.986710",
     "exception": false,
     "start_time": "2022-11-12T03:21:33.981047",
     "status": "completed"
    },
    "tags": []
   },
   "source": [
    "# Exercises"
   ]
  },
  {
   "cell_type": "markdown",
   "id": "fa336dc4",
   "metadata": {
    "papermill": {
     "duration": 0.005713,
     "end_time": "2022-11-12T03:21:33.998192",
     "exception": false,
     "start_time": "2022-11-12T03:21:33.992479",
     "status": "completed"
    },
    "tags": []
   },
   "source": [
    "## 1.\n",
    "\n",
    "What is the median of the `points` column in the `reviews` DataFrame?"
   ]
  },
  {
   "cell_type": "code",
   "execution_count": 2,
   "id": "1b7fcf97",
   "metadata": {
    "execution": {
     "iopub.execute_input": "2022-11-12T03:21:34.011508Z",
     "iopub.status.busy": "2022-11-12T03:21:34.011064Z",
     "iopub.status.idle": "2022-11-12T03:21:34.022400Z",
     "shell.execute_reply": "2022-11-12T03:21:34.021227Z"
    },
    "papermill": {
     "duration": 0.020485,
     "end_time": "2022-11-12T03:21:34.024750",
     "exception": false,
     "start_time": "2022-11-12T03:21:34.004265",
     "status": "completed"
    },
    "tags": []
   },
   "outputs": [
    {
     "data": {
      "application/javascript": [
       "parent.postMessage({\"jupyterEvent\": \"custom.exercise_interaction\", \"data\": {\"outcomeType\": 1, \"valueTowardsCompletion\": 0.14285714285714285, \"interactionType\": 1, \"questionType\": 1, \"questionId\": \"1_MedianPoints\", \"learnToolsVersion\": \"0.3.4\", \"failureMessage\": \"\", \"exceptionClass\": \"\", \"trace\": \"\"}}, \"*\")"
      ],
      "text/plain": [
       "<IPython.core.display.Javascript object>"
      ]
     },
     "metadata": {},
     "output_type": "display_data"
    },
    {
     "data": {
      "text/markdown": [
       "<span style=\"color:#33cc33\">Correct</span>"
      ],
      "text/plain": [
       "Correct"
      ]
     },
     "metadata": {},
     "output_type": "display_data"
    }
   ],
   "source": [
    "median_points = reviews.points.median()\n",
    "\n",
    "# Check your answer\n",
    "q1.check()"
   ]
  },
  {
   "cell_type": "code",
   "execution_count": 3,
   "id": "8da2f856",
   "metadata": {
    "execution": {
     "iopub.execute_input": "2022-11-12T03:21:34.039294Z",
     "iopub.status.busy": "2022-11-12T03:21:34.038680Z",
     "iopub.status.idle": "2022-11-12T03:21:34.042471Z",
     "shell.execute_reply": "2022-11-12T03:21:34.041629Z"
    },
    "papermill": {
     "duration": 0.013599,
     "end_time": "2022-11-12T03:21:34.044622",
     "exception": false,
     "start_time": "2022-11-12T03:21:34.031023",
     "status": "completed"
    },
    "tags": []
   },
   "outputs": [],
   "source": [
    "#q1.hint()\n",
    "#q1.solution()"
   ]
  },
  {
   "cell_type": "markdown",
   "id": "8bb61938",
   "metadata": {
    "papermill": {
     "duration": 0.007488,
     "end_time": "2022-11-12T03:21:34.058757",
     "exception": false,
     "start_time": "2022-11-12T03:21:34.051269",
     "status": "completed"
    },
    "tags": []
   },
   "source": [
    "## 2. \n",
    "What countries are represented in the dataset? (Your answer should not include any duplicates.)"
   ]
  },
  {
   "cell_type": "code",
   "execution_count": 4,
   "id": "27bd6464",
   "metadata": {
    "execution": {
     "iopub.execute_input": "2022-11-12T03:21:34.072959Z",
     "iopub.status.busy": "2022-11-12T03:21:34.072240Z",
     "iopub.status.idle": "2022-11-12T03:21:34.087724Z",
     "shell.execute_reply": "2022-11-12T03:21:34.086663Z"
    },
    "papermill": {
     "duration": 0.024827,
     "end_time": "2022-11-12T03:21:34.089640",
     "exception": false,
     "start_time": "2022-11-12T03:21:34.064813",
     "status": "completed"
    },
    "tags": []
   },
   "outputs": [
    {
     "data": {
      "application/javascript": [
       "parent.postMessage({\"jupyterEvent\": \"custom.exercise_interaction\", \"data\": {\"outcomeType\": 1, \"valueTowardsCompletion\": 0.14285714285714285, \"interactionType\": 1, \"questionType\": 2, \"questionId\": \"2_UniqueCountries\", \"learnToolsVersion\": \"0.3.4\", \"failureMessage\": \"\", \"exceptionClass\": \"\", \"trace\": \"\"}}, \"*\")"
      ],
      "text/plain": [
       "<IPython.core.display.Javascript object>"
      ]
     },
     "metadata": {},
     "output_type": "display_data"
    },
    {
     "data": {
      "text/markdown": [
       "<span style=\"color:#33cc33\">Correct</span>"
      ],
      "text/plain": [
       "Correct"
      ]
     },
     "metadata": {},
     "output_type": "display_data"
    }
   ],
   "source": [
    "countries = reviews.country.unique()\n",
    "\n",
    "# Check your answer\n",
    "q2.check()"
   ]
  },
  {
   "cell_type": "code",
   "execution_count": 5,
   "id": "596c57e6",
   "metadata": {
    "execution": {
     "iopub.execute_input": "2022-11-12T03:21:34.103780Z",
     "iopub.status.busy": "2022-11-12T03:21:34.103457Z",
     "iopub.status.idle": "2022-11-12T03:21:34.107578Z",
     "shell.execute_reply": "2022-11-12T03:21:34.106567Z"
    },
    "papermill": {
     "duration": 0.013661,
     "end_time": "2022-11-12T03:21:34.109691",
     "exception": false,
     "start_time": "2022-11-12T03:21:34.096030",
     "status": "completed"
    },
    "tags": []
   },
   "outputs": [],
   "source": [
    "#q2.hint()\n",
    "#q2.solution()"
   ]
  },
  {
   "cell_type": "markdown",
   "id": "1d7ddf15",
   "metadata": {
    "papermill": {
     "duration": 0.00609,
     "end_time": "2022-11-12T03:21:34.122119",
     "exception": false,
     "start_time": "2022-11-12T03:21:34.116029",
     "status": "completed"
    },
    "tags": []
   },
   "source": [
    "## 3.\n",
    "How often does each country appear in the dataset? Create a Series `reviews_per_country` mapping countries to the count of reviews of wines from that country."
   ]
  },
  {
   "cell_type": "code",
   "execution_count": 6,
   "id": "71dd24a7",
   "metadata": {
    "execution": {
     "iopub.execute_input": "2022-11-12T03:21:34.136453Z",
     "iopub.status.busy": "2022-11-12T03:21:34.136054Z",
     "iopub.status.idle": "2022-11-12T03:21:34.152725Z",
     "shell.execute_reply": "2022-11-12T03:21:34.151948Z"
    },
    "papermill": {
     "duration": 0.026262,
     "end_time": "2022-11-12T03:21:34.154732",
     "exception": false,
     "start_time": "2022-11-12T03:21:34.128470",
     "status": "completed"
    },
    "tags": []
   },
   "outputs": [
    {
     "data": {
      "application/javascript": [
       "parent.postMessage({\"jupyterEvent\": \"custom.exercise_interaction\", \"data\": {\"outcomeType\": 1, \"valueTowardsCompletion\": 0.14285714285714285, \"interactionType\": 1, \"questionType\": 1, \"questionId\": \"3_ReviewsPerCountry\", \"learnToolsVersion\": \"0.3.4\", \"failureMessage\": \"\", \"exceptionClass\": \"\", \"trace\": \"\"}}, \"*\")"
      ],
      "text/plain": [
       "<IPython.core.display.Javascript object>"
      ]
     },
     "metadata": {},
     "output_type": "display_data"
    },
    {
     "data": {
      "text/markdown": [
       "<span style=\"color:#33cc33\">Correct</span>"
      ],
      "text/plain": [
       "Correct"
      ]
     },
     "metadata": {},
     "output_type": "display_data"
    }
   ],
   "source": [
    "reviews_per_country = reviews.country.value_counts()\n",
    "\n",
    "# Check your answer\n",
    "q3.check()"
   ]
  },
  {
   "cell_type": "code",
   "execution_count": 7,
   "id": "92bd2792",
   "metadata": {
    "execution": {
     "iopub.execute_input": "2022-11-12T03:21:34.169955Z",
     "iopub.status.busy": "2022-11-12T03:21:34.169580Z",
     "iopub.status.idle": "2022-11-12T03:21:34.174181Z",
     "shell.execute_reply": "2022-11-12T03:21:34.173138Z"
    },
    "papermill": {
     "duration": 0.014906,
     "end_time": "2022-11-12T03:21:34.176518",
     "exception": false,
     "start_time": "2022-11-12T03:21:34.161612",
     "status": "completed"
    },
    "tags": []
   },
   "outputs": [],
   "source": [
    "#q3.hint()\n",
    "#q3.solution()"
   ]
  },
  {
   "cell_type": "markdown",
   "id": "7ab9cc11",
   "metadata": {
    "papermill": {
     "duration": 0.006451,
     "end_time": "2022-11-12T03:21:34.189728",
     "exception": false,
     "start_time": "2022-11-12T03:21:34.183277",
     "status": "completed"
    },
    "tags": []
   },
   "source": [
    "## 4.\n",
    "Create variable `centered_price` containing a version of the `price` column with the mean price subtracted.\n",
    "\n",
    "(Note: this 'centering' transformation is a common preprocessing step before applying various machine learning algorithms.) "
   ]
  },
  {
   "cell_type": "code",
   "execution_count": 8,
   "id": "6f4ece2c",
   "metadata": {
    "execution": {
     "iopub.execute_input": "2022-11-12T03:21:34.204850Z",
     "iopub.status.busy": "2022-11-12T03:21:34.204457Z",
     "iopub.status.idle": "2022-11-12T03:21:34.215772Z",
     "shell.execute_reply": "2022-11-12T03:21:34.214672Z"
    },
    "papermill": {
     "duration": 0.021772,
     "end_time": "2022-11-12T03:21:34.218207",
     "exception": false,
     "start_time": "2022-11-12T03:21:34.196435",
     "status": "completed"
    },
    "tags": []
   },
   "outputs": [
    {
     "data": {
      "application/javascript": [
       "parent.postMessage({\"jupyterEvent\": \"custom.exercise_interaction\", \"data\": {\"outcomeType\": 1, \"valueTowardsCompletion\": 0.14285714285714285, \"interactionType\": 1, \"questionType\": 1, \"questionId\": \"4_CenteredPrice\", \"learnToolsVersion\": \"0.3.4\", \"failureMessage\": \"\", \"exceptionClass\": \"\", \"trace\": \"\"}}, \"*\")"
      ],
      "text/plain": [
       "<IPython.core.display.Javascript object>"
      ]
     },
     "metadata": {},
     "output_type": "display_data"
    },
    {
     "data": {
      "text/markdown": [
       "<span style=\"color:#33cc33\">Correct</span>"
      ],
      "text/plain": [
       "Correct"
      ]
     },
     "metadata": {},
     "output_type": "display_data"
    }
   ],
   "source": [
    "centered_price = reviews.price - reviews.price.mean()\n",
    "\n",
    "# Check your answer\n",
    "q4.check()"
   ]
  },
  {
   "cell_type": "code",
   "execution_count": 9,
   "id": "efba6506",
   "metadata": {
    "execution": {
     "iopub.execute_input": "2022-11-12T03:21:34.234435Z",
     "iopub.status.busy": "2022-11-12T03:21:34.234025Z",
     "iopub.status.idle": "2022-11-12T03:21:34.238675Z",
     "shell.execute_reply": "2022-11-12T03:21:34.237655Z"
    },
    "papermill": {
     "duration": 0.015546,
     "end_time": "2022-11-12T03:21:34.240867",
     "exception": false,
     "start_time": "2022-11-12T03:21:34.225321",
     "status": "completed"
    },
    "tags": []
   },
   "outputs": [],
   "source": [
    "#q4.hint()\n",
    "#q4.solution()"
   ]
  },
  {
   "cell_type": "markdown",
   "id": "4e5e4fc6",
   "metadata": {
    "papermill": {
     "duration": 0.006472,
     "end_time": "2022-11-12T03:21:34.254186",
     "exception": false,
     "start_time": "2022-11-12T03:21:34.247714",
     "status": "completed"
    },
    "tags": []
   },
   "source": [
    "## 5.\n",
    "I'm an economical wine buyer. Which wine is the \"best bargain\"? Create a variable `bargain_wine` with the title of the wine with the highest points-to-price ratio in the dataset."
   ]
  },
  {
   "cell_type": "code",
   "execution_count": 10,
   "id": "1f174df7",
   "metadata": {
    "execution": {
     "iopub.execute_input": "2022-11-12T03:21:34.268830Z",
     "iopub.status.busy": "2022-11-12T03:21:34.268488Z",
     "iopub.status.idle": "2022-11-12T03:21:34.281543Z",
     "shell.execute_reply": "2022-11-12T03:21:34.280660Z"
    },
    "papermill": {
     "duration": 0.022614,
     "end_time": "2022-11-12T03:21:34.283491",
     "exception": false,
     "start_time": "2022-11-12T03:21:34.260877",
     "status": "completed"
    },
    "tags": []
   },
   "outputs": [
    {
     "data": {
      "application/javascript": [
       "parent.postMessage({\"jupyterEvent\": \"custom.exercise_interaction\", \"data\": {\"outcomeType\": 1, \"valueTowardsCompletion\": 0.14285714285714285, \"interactionType\": 1, \"questionType\": 2, \"questionId\": \"5_BargainWine\", \"learnToolsVersion\": \"0.3.4\", \"failureMessage\": \"\", \"exceptionClass\": \"\", \"trace\": \"\"}}, \"*\")"
      ],
      "text/plain": [
       "<IPython.core.display.Javascript object>"
      ]
     },
     "metadata": {},
     "output_type": "display_data"
    },
    {
     "data": {
      "text/markdown": [
       "<span style=\"color:#33cc33\">Correct</span>"
      ],
      "text/plain": [
       "Correct"
      ]
     },
     "metadata": {},
     "output_type": "display_data"
    }
   ],
   "source": [
    "bargain_idx = (reviews.points / reviews.price).idxmax()\n",
    "bargain_wine = reviews.loc[bargain_idx, 'title']\n",
    "\n",
    "# Check your answer\n",
    "q5.check()"
   ]
  },
  {
   "cell_type": "code",
   "execution_count": 11,
   "id": "fcd4fcc4",
   "metadata": {
    "execution": {
     "iopub.execute_input": "2022-11-12T03:21:34.299146Z",
     "iopub.status.busy": "2022-11-12T03:21:34.298636Z",
     "iopub.status.idle": "2022-11-12T03:21:34.302626Z",
     "shell.execute_reply": "2022-11-12T03:21:34.301680Z"
    },
    "papermill": {
     "duration": 0.014151,
     "end_time": "2022-11-12T03:21:34.304723",
     "exception": false,
     "start_time": "2022-11-12T03:21:34.290572",
     "status": "completed"
    },
    "tags": []
   },
   "outputs": [],
   "source": [
    "#q5.hint()\n",
    "#q5.solution()"
   ]
  },
  {
   "cell_type": "markdown",
   "id": "920c1b3b",
   "metadata": {
    "papermill": {
     "duration": 0.006871,
     "end_time": "2022-11-12T03:21:34.319109",
     "exception": false,
     "start_time": "2022-11-12T03:21:34.312238",
     "status": "completed"
    },
    "tags": []
   },
   "source": [
    "## 6.\n",
    "There are only so many words you can use when describing a bottle of wine. Is a wine more likely to be \"tropical\" or \"fruity\"? Create a Series `descriptor_counts` counting how many times each of these two words appears in the `description` column in the dataset. (For simplicity, let's ignore the capitalized versions of these words.)"
   ]
  },
  {
   "cell_type": "code",
   "execution_count": 12,
   "id": "d9d16441",
   "metadata": {
    "execution": {
     "iopub.execute_input": "2022-11-12T03:21:34.334561Z",
     "iopub.status.busy": "2022-11-12T03:21:34.334169Z",
     "iopub.status.idle": "2022-11-12T03:21:34.474740Z",
     "shell.execute_reply": "2022-11-12T03:21:34.473656Z"
    },
    "papermill": {
     "duration": 0.150813,
     "end_time": "2022-11-12T03:21:34.476812",
     "exception": false,
     "start_time": "2022-11-12T03:21:34.325999",
     "status": "completed"
    },
    "tags": []
   },
   "outputs": [
    {
     "data": {
      "application/javascript": [
       "parent.postMessage({\"jupyterEvent\": \"custom.exercise_interaction\", \"data\": {\"outcomeType\": 1, \"valueTowardsCompletion\": 0.14285714285714285, \"interactionType\": 1, \"questionType\": 1, \"questionId\": \"6_DescriptorCounts\", \"learnToolsVersion\": \"0.3.4\", \"failureMessage\": \"\", \"exceptionClass\": \"\", \"trace\": \"\"}}, \"*\")"
      ],
      "text/plain": [
       "<IPython.core.display.Javascript object>"
      ]
     },
     "metadata": {},
     "output_type": "display_data"
    },
    {
     "data": {
      "text/markdown": [
       "<span style=\"color:#33cc33\">Correct</span>"
      ],
      "text/plain": [
       "Correct"
      ]
     },
     "metadata": {},
     "output_type": "display_data"
    }
   ],
   "source": [
    "n_trop = reviews.description.map(lambda desc: \"tropical\" in desc).sum()\n",
    "n_fruity = reviews.description.map(lambda desc: \"fruity\" in desc).sum()\n",
    "descriptor_counts = pd.Series([n_trop, n_fruity], index=['tropical', 'fruity'])\n",
    "\n",
    "# Check your answer\n",
    "q6.check()"
   ]
  },
  {
   "cell_type": "code",
   "execution_count": 13,
   "id": "124deed2",
   "metadata": {
    "execution": {
     "iopub.execute_input": "2022-11-12T03:21:34.493969Z",
     "iopub.status.busy": "2022-11-12T03:21:34.493614Z",
     "iopub.status.idle": "2022-11-12T03:21:34.497938Z",
     "shell.execute_reply": "2022-11-12T03:21:34.496934Z"
    },
    "papermill": {
     "duration": 0.015205,
     "end_time": "2022-11-12T03:21:34.500169",
     "exception": false,
     "start_time": "2022-11-12T03:21:34.484964",
     "status": "completed"
    },
    "tags": []
   },
   "outputs": [],
   "source": [
    "#q6.hint()\n",
    "#q6.solution()"
   ]
  },
  {
   "cell_type": "markdown",
   "id": "831a4250",
   "metadata": {
    "papermill": {
     "duration": 0.006991,
     "end_time": "2022-11-12T03:21:34.514447",
     "exception": false,
     "start_time": "2022-11-12T03:21:34.507456",
     "status": "completed"
    },
    "tags": []
   },
   "source": [
    "## 7.\n",
    "We'd like to host these wine reviews on our website, but a rating system ranging from 80 to 100 points is too hard to understand - we'd like to translate them into simple star ratings. A score of 95 or higher counts as 3 stars, a score of at least 85 but less than 95 is 2 stars. Any other score is 1 star.\n",
    "\n",
    "Also, the Canadian Vintners Association bought a lot of ads on the site, so any wines from Canada should automatically get 3 stars, regardless of points.\n",
    "\n",
    "Create a series `star_ratings` with the number of stars corresponding to each review in the dataset."
   ]
  },
  {
   "cell_type": "code",
   "execution_count": 14,
   "id": "be89d353",
   "metadata": {
    "execution": {
     "iopub.execute_input": "2022-11-12T03:21:34.531084Z",
     "iopub.status.busy": "2022-11-12T03:21:34.530702Z",
     "iopub.status.idle": "2022-11-12T03:21:38.408421Z",
     "shell.execute_reply": "2022-11-12T03:21:38.407578Z"
    },
    "papermill": {
     "duration": 3.888643,
     "end_time": "2022-11-12T03:21:38.410460",
     "exception": false,
     "start_time": "2022-11-12T03:21:34.521817",
     "status": "completed"
    },
    "tags": []
   },
   "outputs": [
    {
     "data": {
      "application/javascript": [
       "parent.postMessage({\"jupyterEvent\": \"custom.exercise_interaction\", \"data\": {\"outcomeType\": 1, \"valueTowardsCompletion\": 0.14285714285714285, \"interactionType\": 1, \"questionType\": 1, \"questionId\": \"7_StarRatings\", \"learnToolsVersion\": \"0.3.4\", \"failureMessage\": \"\", \"exceptionClass\": \"\", \"trace\": \"\"}}, \"*\")"
      ],
      "text/plain": [
       "<IPython.core.display.Javascript object>"
      ]
     },
     "metadata": {},
     "output_type": "display_data"
    },
    {
     "data": {
      "text/markdown": [
       "<span style=\"color:#33cc33\">Correct</span>"
      ],
      "text/plain": [
       "Correct"
      ]
     },
     "metadata": {},
     "output_type": "display_data"
    }
   ],
   "source": [
    "def stars(row):\n",
    "    if row.country == 'Canada':\n",
    "        return 3\n",
    "    elif row.points >= 95:\n",
    "        return 3\n",
    "    elif row.points >= 85:\n",
    "        return 2\n",
    "    else:\n",
    "        return 1\n",
    "\n",
    "star_ratings = reviews.apply(stars, axis='columns')\n",
    "\n",
    "# Check your answer\n",
    "q7.check()"
   ]
  },
  {
   "cell_type": "code",
   "execution_count": 15,
   "id": "f6ae3eeb",
   "metadata": {
    "execution": {
     "iopub.execute_input": "2022-11-12T03:21:38.427536Z",
     "iopub.status.busy": "2022-11-12T03:21:38.426833Z",
     "iopub.status.idle": "2022-11-12T03:21:38.432520Z",
     "shell.execute_reply": "2022-11-12T03:21:38.431544Z"
    },
    "papermill": {
     "duration": 0.016485,
     "end_time": "2022-11-12T03:21:38.434668",
     "exception": false,
     "start_time": "2022-11-12T03:21:38.418183",
     "status": "completed"
    },
    "tags": []
   },
   "outputs": [],
   "source": [
    "#q7.hint()\n",
    "#q7.solution()"
   ]
  },
  {
   "cell_type": "markdown",
   "id": "3e5d8b2e",
   "metadata": {
    "papermill": {
     "duration": 0.007461,
     "end_time": "2022-11-12T03:21:38.449982",
     "exception": false,
     "start_time": "2022-11-12T03:21:38.442521",
     "status": "completed"
    },
    "tags": []
   },
   "source": [
    "# Keep going\n",
    "Continue to **[grouping and sorting](https://www.kaggle.com/residentmario/grouping-and-sorting)**."
   ]
  },
  {
   "cell_type": "markdown",
   "id": "78b58c2b",
   "metadata": {
    "papermill": {
     "duration": 0.007431,
     "end_time": "2022-11-12T03:21:38.465212",
     "exception": false,
     "start_time": "2022-11-12T03:21:38.457781",
     "status": "completed"
    },
    "tags": []
   },
   "source": [
    "---\n",
    "\n",
    "\n",
    "\n",
    "\n",
    "*Have questions or comments? Visit the [course discussion forum](https://www.kaggle.com/learn/pandas/discussion) to chat with other learners.*"
   ]
  }
 ],
 "metadata": {
  "kernelspec": {
   "display_name": "Python 3",
   "language": "python",
   "name": "python3"
  },
  "language_info": {
   "codemirror_mode": {
    "name": "ipython",
    "version": 3
   },
   "file_extension": ".py",
   "mimetype": "text/x-python",
   "name": "python",
   "nbconvert_exporter": "python",
   "pygments_lexer": "ipython3",
   "version": "3.7.12"
  },
  "papermill": {
   "default_parameters": {},
   "duration": 19.955391,
   "end_time": "2022-11-12T03:21:39.094415",
   "environment_variables": {},
   "exception": null,
   "input_path": "__notebook__.ipynb",
   "output_path": "__notebook__.ipynb",
   "parameters": {},
   "start_time": "2022-11-12T03:21:19.139024",
   "version": "2.3.4"
  }
 },
 "nbformat": 4,
 "nbformat_minor": 5
}
